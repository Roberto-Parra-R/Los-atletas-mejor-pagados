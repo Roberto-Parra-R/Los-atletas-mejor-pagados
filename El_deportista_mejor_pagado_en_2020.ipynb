{
  "cells": [
    {
      "cell_type": "markdown",
      "metadata": {
        "id": "d9hYmBZldl1f"
      },
      "source": [
        "# Analysis of the highest paid athletes in the world\n",
        "\n",
        "\n",
        "**Here is an analysis of the world's Top 10 highest paid athelets from 1990 to 2020. The analysis brings out some interesting facts:**\n",
        "\n",
        "- Tiger Woods dominates the list of Top ranked recently while earlier it was Michael Jordan\n",
        "- USA dominates the world when it comes to earnings\n",
        "- Monica Seles is the only women to make the top-10 highest paid athlete list from 1990 to 2020\n",
        "- Top 3 earners in 2020 are soccer players\n",
        "- Basketball players earn the most followed by Boxing and Golf.\n",
        "\n"
      ]
    },
    {
      "cell_type": "markdown",
      "metadata": {
        "id": "zkEkUj1Sdl1k"
      },
      "source": [
        "## Updated for year 2020"
      ]
    },
    {
      "cell_type": "markdown",
      "metadata": {
        "id": "yWDpZfp7dl1k"
      },
      "source": [
        "# Objective\n",
        "\n",
        "This notebook is targetted towards beginners in Data Analysis. We begin by analysing the data and then we use plotly for visualisation to get better insights. Also, we plot a racing bar graph with only matplotlib to help the effects come out."
      ]
    },
    {
      "cell_type": "code",
      "execution_count": null,
      "metadata": {
        "_cell_guid": "b1076dfc-b9ad-4769-8c92-a6c4dae69d19",
        "_kg_hide-input": true,
        "_kg_hide-output": true,
        "_uuid": "8f2839f25d086af736a60e9eeb907d3b93b6e0e5",
        "execution": {
          "iopub.execute_input": "2021-07-18T11:50:17.396029Z",
          "iopub.status.busy": "2021-07-18T11:50:17.395513Z",
          "iopub.status.idle": "2021-07-18T11:50:21.664193Z",
          "shell.execute_reply": "2021-07-18T11:50:21.663443Z",
          "shell.execute_reply.started": "2021-07-18T11:50:17.395770Z"
        },
        "colab": {
          "base_uri": "https://localhost:8080/",
          "height": 52
        },
        "id": "SrivtEy2dl1l",
        "outputId": "9ec5aa3a-45c4-48e2-f28e-8c32709c243f"
      },
      "outputs": [
        {
          "output_type": "stream",
          "name": "stdout",
          "text": [
            "Requirement already satisfied: pycountry in /usr/local/lib/python3.7/dist-packages (22.3.5)\n",
            "Requirement already satisfied: setuptools in /usr/local/lib/python3.7/dist-packages (from pycountry) (57.4.0)\n"
          ]
        },
        {
          "output_type": "display_data",
          "data": {
            "text/html": [
              "        <script type=\"text/javascript\">\n",
              "        window.PlotlyConfig = {MathJaxConfig: 'local'};\n",
              "        if (window.MathJax) {MathJax.Hub.Config({SVG: {font: \"STIX-Web\"}});}\n",
              "        if (typeof require !== 'undefined') {\n",
              "        require.undef(\"plotly\");\n",
              "        requirejs.config({\n",
              "            paths: {\n",
              "                'plotly': ['https://cdn.plot.ly/plotly-2.8.3.min']\n",
              "            }\n",
              "        });\n",
              "        require(['plotly'], function(Plotly) {\n",
              "            window._Plotly = Plotly;\n",
              "        });\n",
              "        }\n",
              "        </script>\n",
              "        "
            ]
          },
          "metadata": {}
        }
      ],
      "source": [
        "# This Python 3 environment comes with many helpful analytics libraries installed\n",
        "# It is defined by the kaggle/python docker image: https://github.com/kaggle/docker-python\n",
        "# For example, here's several helpful packages to load in \n",
        "\n",
        "import numpy as np # linear algebra\n",
        "import pandas as pd # data processing, CSV file I/O (e.g. pd.read_csv)\n",
        "from datetime import datetime\n",
        "\n",
        "#Visualisation libraries\n",
        "import matplotlib.pyplot as plt\n",
        "%matplotlib inline\n",
        "import seaborn as sns\n",
        "sns.set()\n",
        "from plotly.offline import init_notebook_mode, iplot \n",
        "import plotly.graph_objs as go\n",
        "import plotly.offline as py\n",
        "!pip install pycountry\n",
        "import pycountry\n",
        "py.init_notebook_mode(connected=True)\n",
        "import folium \n",
        "from folium import plugins\n",
        "\n",
        "# Image\n",
        "import numpy as np\n",
        "from PIL import Image\n",
        "\n",
        "# Animation\n",
        "import matplotlib.ticker as ticker\n",
        "import matplotlib.animation as animation\n",
        "from IPython.display import HTML\n",
        "\n",
        "# Graphics in retina format \n",
        "%config InlineBackend.figure_format = 'retina' \n",
        "\n",
        "# Increase the default plot size and set the color scheme\n",
        "plt.rcParams['figure.figsize'] = 8, 5\n",
        "\n",
        "\n",
        "# Disable warnings in Anaconda\n",
        "import warnings\n",
        "warnings.filterwarnings('ignore')\n",
        "import os\n",
        "for dirname, _, filenames in os.walk('/kaggle/input'):\n",
        "    for filename in filenames:\n",
        "        print(os.path.join(dirname, filename))\n",
        "\n",
        "# Any results you write to the current directory are saved as output."
      ]
    },
    {
      "cell_type": "code",
      "execution_count": null,
      "metadata": {
        "_cell_guid": "79c7e3d0-c299-4dcb-8224-4455121ee9b0",
        "_uuid": "d629ff2d2480ee46fbb7e2d37f6b5fab8052498a",
        "execution": {
          "iopub.execute_input": "2021-07-18T11:50:21.666501Z",
          "iopub.status.busy": "2021-07-18T11:50:21.666223Z",
          "iopub.status.idle": "2021-07-18T11:50:21.670969Z",
          "shell.execute_reply": "2021-07-18T11:50:21.670043Z",
          "shell.execute_reply.started": "2021-07-18T11:50:21.666452Z"
        },
        "id": "67bXpAZxdl1o"
      },
      "outputs": [],
      "source": [
        "# List files available\n",
        "#print(os.listdir(\"../input\"))"
      ]
    },
    {
      "cell_type": "markdown",
      "metadata": {
        "id": "eWnVUUdLdl1p"
      },
      "source": [
        "\n",
        "# 1. Reading and Preprocessing the data\n",
        "\n",
        "\n",
        "### Steps :\n",
        "* Read in the data using pandas\n",
        "* Convert Year column to datetime\n",
        "* Convert the text in the Sport column to either upper or lower case"
      ]
    },
    {
      "cell_type": "code",
      "execution_count": null,
      "metadata": {
        "execution": {
          "iopub.execute_input": "2021-07-18T11:50:21.672454Z",
          "iopub.status.busy": "2021-07-18T11:50:21.672194Z",
          "iopub.status.idle": "2021-07-18T11:50:21.723110Z",
          "shell.execute_reply": "2021-07-18T11:50:21.722352Z",
          "shell.execute_reply.started": "2021-07-18T11:50:21.672407Z"
        },
        "colab": {
          "base_uri": "https://localhost:8080/",
          "height": 206
        },
        "id": "kWKPTO7odl1p",
        "outputId": "b2bf4968-c4a2-4290-a121-62cc2ecac9b4"
      },
      "outputs": [
        {
          "output_type": "execute_result",
          "data": {
            "text/plain": [
              "   S.NO               Name Nationality  Current Rank Previous Year Rank  \\\n",
              "0     1         Mike Tyson         USA             1                NaN   \n",
              "1     2     Buster Douglas         USA             2                NaN   \n",
              "2     3  Sugar Ray Leonard         USA             3                NaN   \n",
              "3     4       Ayrton Senna      Brazil             4                NaN   \n",
              "4     5        Alain Prost      France             5                NaN   \n",
              "\n",
              "         Sport  Year  earnings ($ million)  \n",
              "0       boxing  1990                  28.6  \n",
              "1       boxing  1990                  26.0  \n",
              "2       boxing  1990                  13.0  \n",
              "3  auto racing  1990                  10.0  \n",
              "4  auto racing  1990                   9.0  "
            ],
            "text/html": [
              "\n",
              "  <div id=\"df-ef478fb3-fd5c-4861-86a8-d67c6598bbe1\">\n",
              "    <div class=\"colab-df-container\">\n",
              "      <div>\n",
              "<style scoped>\n",
              "    .dataframe tbody tr th:only-of-type {\n",
              "        vertical-align: middle;\n",
              "    }\n",
              "\n",
              "    .dataframe tbody tr th {\n",
              "        vertical-align: top;\n",
              "    }\n",
              "\n",
              "    .dataframe thead th {\n",
              "        text-align: right;\n",
              "    }\n",
              "</style>\n",
              "<table border=\"1\" class=\"dataframe\">\n",
              "  <thead>\n",
              "    <tr style=\"text-align: right;\">\n",
              "      <th></th>\n",
              "      <th>S.NO</th>\n",
              "      <th>Name</th>\n",
              "      <th>Nationality</th>\n",
              "      <th>Current Rank</th>\n",
              "      <th>Previous Year Rank</th>\n",
              "      <th>Sport</th>\n",
              "      <th>Year</th>\n",
              "      <th>earnings ($ million)</th>\n",
              "    </tr>\n",
              "  </thead>\n",
              "  <tbody>\n",
              "    <tr>\n",
              "      <th>0</th>\n",
              "      <td>1</td>\n",
              "      <td>Mike Tyson</td>\n",
              "      <td>USA</td>\n",
              "      <td>1</td>\n",
              "      <td>NaN</td>\n",
              "      <td>boxing</td>\n",
              "      <td>1990</td>\n",
              "      <td>28.6</td>\n",
              "    </tr>\n",
              "    <tr>\n",
              "      <th>1</th>\n",
              "      <td>2</td>\n",
              "      <td>Buster Douglas</td>\n",
              "      <td>USA</td>\n",
              "      <td>2</td>\n",
              "      <td>NaN</td>\n",
              "      <td>boxing</td>\n",
              "      <td>1990</td>\n",
              "      <td>26.0</td>\n",
              "    </tr>\n",
              "    <tr>\n",
              "      <th>2</th>\n",
              "      <td>3</td>\n",
              "      <td>Sugar Ray Leonard</td>\n",
              "      <td>USA</td>\n",
              "      <td>3</td>\n",
              "      <td>NaN</td>\n",
              "      <td>boxing</td>\n",
              "      <td>1990</td>\n",
              "      <td>13.0</td>\n",
              "    </tr>\n",
              "    <tr>\n",
              "      <th>3</th>\n",
              "      <td>4</td>\n",
              "      <td>Ayrton Senna</td>\n",
              "      <td>Brazil</td>\n",
              "      <td>4</td>\n",
              "      <td>NaN</td>\n",
              "      <td>auto racing</td>\n",
              "      <td>1990</td>\n",
              "      <td>10.0</td>\n",
              "    </tr>\n",
              "    <tr>\n",
              "      <th>4</th>\n",
              "      <td>5</td>\n",
              "      <td>Alain Prost</td>\n",
              "      <td>France</td>\n",
              "      <td>5</td>\n",
              "      <td>NaN</td>\n",
              "      <td>auto racing</td>\n",
              "      <td>1990</td>\n",
              "      <td>9.0</td>\n",
              "    </tr>\n",
              "  </tbody>\n",
              "</table>\n",
              "</div>\n",
              "      <button class=\"colab-df-convert\" onclick=\"convertToInteractive('df-ef478fb3-fd5c-4861-86a8-d67c6598bbe1')\"\n",
              "              title=\"Convert this dataframe to an interactive table.\"\n",
              "              style=\"display:none;\">\n",
              "        \n",
              "  <svg xmlns=\"http://www.w3.org/2000/svg\" height=\"24px\"viewBox=\"0 0 24 24\"\n",
              "       width=\"24px\">\n",
              "    <path d=\"M0 0h24v24H0V0z\" fill=\"none\"/>\n",
              "    <path d=\"M18.56 5.44l.94 2.06.94-2.06 2.06-.94-2.06-.94-.94-2.06-.94 2.06-2.06.94zm-11 1L8.5 8.5l.94-2.06 2.06-.94-2.06-.94L8.5 2.5l-.94 2.06-2.06.94zm10 10l.94 2.06.94-2.06 2.06-.94-2.06-.94-.94-2.06-.94 2.06-2.06.94z\"/><path d=\"M17.41 7.96l-1.37-1.37c-.4-.4-.92-.59-1.43-.59-.52 0-1.04.2-1.43.59L10.3 9.45l-7.72 7.72c-.78.78-.78 2.05 0 2.83L4 21.41c.39.39.9.59 1.41.59.51 0 1.02-.2 1.41-.59l7.78-7.78 2.81-2.81c.8-.78.8-2.07 0-2.86zM5.41 20L4 18.59l7.72-7.72 1.47 1.35L5.41 20z\"/>\n",
              "  </svg>\n",
              "      </button>\n",
              "      \n",
              "  <style>\n",
              "    .colab-df-container {\n",
              "      display:flex;\n",
              "      flex-wrap:wrap;\n",
              "      gap: 12px;\n",
              "    }\n",
              "\n",
              "    .colab-df-convert {\n",
              "      background-color: #E8F0FE;\n",
              "      border: none;\n",
              "      border-radius: 50%;\n",
              "      cursor: pointer;\n",
              "      display: none;\n",
              "      fill: #1967D2;\n",
              "      height: 32px;\n",
              "      padding: 0 0 0 0;\n",
              "      width: 32px;\n",
              "    }\n",
              "\n",
              "    .colab-df-convert:hover {\n",
              "      background-color: #E2EBFA;\n",
              "      box-shadow: 0px 1px 2px rgba(60, 64, 67, 0.3), 0px 1px 3px 1px rgba(60, 64, 67, 0.15);\n",
              "      fill: #174EA6;\n",
              "    }\n",
              "\n",
              "    [theme=dark] .colab-df-convert {\n",
              "      background-color: #3B4455;\n",
              "      fill: #D2E3FC;\n",
              "    }\n",
              "\n",
              "    [theme=dark] .colab-df-convert:hover {\n",
              "      background-color: #434B5C;\n",
              "      box-shadow: 0px 1px 3px 1px rgba(0, 0, 0, 0.15);\n",
              "      filter: drop-shadow(0px 1px 2px rgba(0, 0, 0, 0.3));\n",
              "      fill: #FFFFFF;\n",
              "    }\n",
              "  </style>\n",
              "\n",
              "      <script>\n",
              "        const buttonEl =\n",
              "          document.querySelector('#df-ef478fb3-fd5c-4861-86a8-d67c6598bbe1 button.colab-df-convert');\n",
              "        buttonEl.style.display =\n",
              "          google.colab.kernel.accessAllowed ? 'block' : 'none';\n",
              "\n",
              "        async function convertToInteractive(key) {\n",
              "          const element = document.querySelector('#df-ef478fb3-fd5c-4861-86a8-d67c6598bbe1');\n",
              "          const dataTable =\n",
              "            await google.colab.kernel.invokeFunction('convertToInteractive',\n",
              "                                                     [key], {});\n",
              "          if (!dataTable) return;\n",
              "\n",
              "          const docLinkHtml = 'Like what you see? Visit the ' +\n",
              "            '<a target=\"_blank\" href=https://colab.research.google.com/notebooks/data_table.ipynb>data table notebook</a>'\n",
              "            + ' to learn more about interactive tables.';\n",
              "          element.innerHTML = '';\n",
              "          dataTable['output_type'] = 'display_data';\n",
              "          await google.colab.output.renderOutput(dataTable, element);\n",
              "          const docLink = document.createElement('div');\n",
              "          docLink.innerHTML = docLinkHtml;\n",
              "          element.appendChild(docLink);\n",
              "        }\n",
              "      </script>\n",
              "    </div>\n",
              "  </div>\n",
              "  "
            ]
          },
          "metadata": {},
          "execution_count": 27
        }
      ],
      "source": [
        "df = pd.read_csv('forbes-dataset-2020.csv')\n",
        "df.head()"
      ]
    },
    {
      "cell_type": "code",
      "execution_count": null,
      "metadata": {
        "execution": {
          "iopub.execute_input": "2021-07-18T11:50:21.724839Z",
          "iopub.status.busy": "2021-07-18T11:50:21.724582Z",
          "iopub.status.idle": "2021-07-18T11:50:21.741219Z",
          "shell.execute_reply": "2021-07-18T11:50:21.740523Z",
          "shell.execute_reply.started": "2021-07-18T11:50:21.724787Z"
        },
        "colab": {
          "base_uri": "https://localhost:8080/"
        },
        "id": "vAJiATskdl1q",
        "outputId": "c1b65180-b9b8-4a0e-f4e1-1d35ed2e4bff"
      },
      "outputs": [
        {
          "output_type": "stream",
          "name": "stdout",
          "text": [
            "<class 'pandas.core.frame.DataFrame'>\n",
            "RangeIndex: 301 entries, 0 to 300\n",
            "Data columns (total 7 columns):\n",
            " #   Column                Non-Null Count  Dtype  \n",
            "---  ------                --------------  -----  \n",
            " 0   Name                  301 non-null    object \n",
            " 1   Nationality           301 non-null    object \n",
            " 2   Current Rank          301 non-null    int64  \n",
            " 3   Previous Year Rank    277 non-null    object \n",
            " 4   Sport                 301 non-null    object \n",
            " 5   Year                  301 non-null    int64  \n",
            " 6   earnings ($ million)  301 non-null    float64\n",
            "dtypes: float64(1), int64(2), object(4)\n",
            "memory usage: 16.6+ KB\n"
          ]
        }
      ],
      "source": [
        "\n",
        "# Creating a copy of the original dataframe- df\n",
        "# Copia del dataframe\n",
        "df1 = df.copy()\n",
        "df1.drop('S.NO',axis=1,inplace=True)\n",
        "df1.info()"
      ]
    },
    {
      "cell_type": "code",
      "execution_count": null,
      "metadata": {
        "execution": {
          "iopub.execute_input": "2021-07-18T11:50:21.744557Z",
          "iopub.status.busy": "2021-07-18T11:50:21.744034Z",
          "iopub.status.idle": "2021-07-18T11:50:21.830256Z",
          "shell.execute_reply": "2021-07-18T11:50:21.829258Z",
          "shell.execute_reply.started": "2021-07-18T11:50:21.744495Z"
        },
        "colab": {
          "base_uri": "https://localhost:8080/",
          "height": 238
        },
        "id": "u3Znx9cIdl1r",
        "outputId": "c132bc4b-57cd-4f89-e0de-5e46f4463707"
      },
      "outputs": [
        {
          "output_type": "execute_result",
          "data": {
            "text/plain": [
              "                   Name Nationality  Current Rank Previous Year Rank  \\\n",
              "year                                                                   \n",
              "1990         Mike Tyson         USA             1                NaN   \n",
              "1990     Buster Douglas         USA             2                NaN   \n",
              "1990  Sugar Ray Leonard         USA             3                NaN   \n",
              "1990       Ayrton Senna      Brazil             4                NaN   \n",
              "1990        Alain Prost      France             5                NaN   \n",
              "\n",
              "            Sport  earnings ($ million)  \n",
              "year                                     \n",
              "1990       BOXING                  28.6  \n",
              "1990       BOXING                  26.0  \n",
              "1990       BOXING                  13.0  \n",
              "1990  AUTO RACING                  10.0  \n",
              "1990  AUTO RACING                   9.0  "
            ],
            "text/html": [
              "\n",
              "  <div id=\"df-9aaad5e1-cdf9-4429-a8ae-c29815c63f18\">\n",
              "    <div class=\"colab-df-container\">\n",
              "      <div>\n",
              "<style scoped>\n",
              "    .dataframe tbody tr th:only-of-type {\n",
              "        vertical-align: middle;\n",
              "    }\n",
              "\n",
              "    .dataframe tbody tr th {\n",
              "        vertical-align: top;\n",
              "    }\n",
              "\n",
              "    .dataframe thead th {\n",
              "        text-align: right;\n",
              "    }\n",
              "</style>\n",
              "<table border=\"1\" class=\"dataframe\">\n",
              "  <thead>\n",
              "    <tr style=\"text-align: right;\">\n",
              "      <th></th>\n",
              "      <th>Name</th>\n",
              "      <th>Nationality</th>\n",
              "      <th>Current Rank</th>\n",
              "      <th>Previous Year Rank</th>\n",
              "      <th>Sport</th>\n",
              "      <th>earnings ($ million)</th>\n",
              "    </tr>\n",
              "    <tr>\n",
              "      <th>year</th>\n",
              "      <th></th>\n",
              "      <th></th>\n",
              "      <th></th>\n",
              "      <th></th>\n",
              "      <th></th>\n",
              "      <th></th>\n",
              "    </tr>\n",
              "  </thead>\n",
              "  <tbody>\n",
              "    <tr>\n",
              "      <th>1990</th>\n",
              "      <td>Mike Tyson</td>\n",
              "      <td>USA</td>\n",
              "      <td>1</td>\n",
              "      <td>NaN</td>\n",
              "      <td>BOXING</td>\n",
              "      <td>28.6</td>\n",
              "    </tr>\n",
              "    <tr>\n",
              "      <th>1990</th>\n",
              "      <td>Buster Douglas</td>\n",
              "      <td>USA</td>\n",
              "      <td>2</td>\n",
              "      <td>NaN</td>\n",
              "      <td>BOXING</td>\n",
              "      <td>26.0</td>\n",
              "    </tr>\n",
              "    <tr>\n",
              "      <th>1990</th>\n",
              "      <td>Sugar Ray Leonard</td>\n",
              "      <td>USA</td>\n",
              "      <td>3</td>\n",
              "      <td>NaN</td>\n",
              "      <td>BOXING</td>\n",
              "      <td>13.0</td>\n",
              "    </tr>\n",
              "    <tr>\n",
              "      <th>1990</th>\n",
              "      <td>Ayrton Senna</td>\n",
              "      <td>Brazil</td>\n",
              "      <td>4</td>\n",
              "      <td>NaN</td>\n",
              "      <td>AUTO RACING</td>\n",
              "      <td>10.0</td>\n",
              "    </tr>\n",
              "    <tr>\n",
              "      <th>1990</th>\n",
              "      <td>Alain Prost</td>\n",
              "      <td>France</td>\n",
              "      <td>5</td>\n",
              "      <td>NaN</td>\n",
              "      <td>AUTO RACING</td>\n",
              "      <td>9.0</td>\n",
              "    </tr>\n",
              "  </tbody>\n",
              "</table>\n",
              "</div>\n",
              "      <button class=\"colab-df-convert\" onclick=\"convertToInteractive('df-9aaad5e1-cdf9-4429-a8ae-c29815c63f18')\"\n",
              "              title=\"Convert this dataframe to an interactive table.\"\n",
              "              style=\"display:none;\">\n",
              "        \n",
              "  <svg xmlns=\"http://www.w3.org/2000/svg\" height=\"24px\"viewBox=\"0 0 24 24\"\n",
              "       width=\"24px\">\n",
              "    <path d=\"M0 0h24v24H0V0z\" fill=\"none\"/>\n",
              "    <path d=\"M18.56 5.44l.94 2.06.94-2.06 2.06-.94-2.06-.94-.94-2.06-.94 2.06-2.06.94zm-11 1L8.5 8.5l.94-2.06 2.06-.94-2.06-.94L8.5 2.5l-.94 2.06-2.06.94zm10 10l.94 2.06.94-2.06 2.06-.94-2.06-.94-.94-2.06-.94 2.06-2.06.94z\"/><path d=\"M17.41 7.96l-1.37-1.37c-.4-.4-.92-.59-1.43-.59-.52 0-1.04.2-1.43.59L10.3 9.45l-7.72 7.72c-.78.78-.78 2.05 0 2.83L4 21.41c.39.39.9.59 1.41.59.51 0 1.02-.2 1.41-.59l7.78-7.78 2.81-2.81c.8-.78.8-2.07 0-2.86zM5.41 20L4 18.59l7.72-7.72 1.47 1.35L5.41 20z\"/>\n",
              "  </svg>\n",
              "      </button>\n",
              "      \n",
              "  <style>\n",
              "    .colab-df-container {\n",
              "      display:flex;\n",
              "      flex-wrap:wrap;\n",
              "      gap: 12px;\n",
              "    }\n",
              "\n",
              "    .colab-df-convert {\n",
              "      background-color: #E8F0FE;\n",
              "      border: none;\n",
              "      border-radius: 50%;\n",
              "      cursor: pointer;\n",
              "      display: none;\n",
              "      fill: #1967D2;\n",
              "      height: 32px;\n",
              "      padding: 0 0 0 0;\n",
              "      width: 32px;\n",
              "    }\n",
              "\n",
              "    .colab-df-convert:hover {\n",
              "      background-color: #E2EBFA;\n",
              "      box-shadow: 0px 1px 2px rgba(60, 64, 67, 0.3), 0px 1px 3px 1px rgba(60, 64, 67, 0.15);\n",
              "      fill: #174EA6;\n",
              "    }\n",
              "\n",
              "    [theme=dark] .colab-df-convert {\n",
              "      background-color: #3B4455;\n",
              "      fill: #D2E3FC;\n",
              "    }\n",
              "\n",
              "    [theme=dark] .colab-df-convert:hover {\n",
              "      background-color: #434B5C;\n",
              "      box-shadow: 0px 1px 3px 1px rgba(0, 0, 0, 0.15);\n",
              "      filter: drop-shadow(0px 1px 2px rgba(0, 0, 0, 0.3));\n",
              "      fill: #FFFFFF;\n",
              "    }\n",
              "  </style>\n",
              "\n",
              "      <script>\n",
              "        const buttonEl =\n",
              "          document.querySelector('#df-9aaad5e1-cdf9-4429-a8ae-c29815c63f18 button.colab-df-convert');\n",
              "        buttonEl.style.display =\n",
              "          google.colab.kernel.accessAllowed ? 'block' : 'none';\n",
              "\n",
              "        async function convertToInteractive(key) {\n",
              "          const element = document.querySelector('#df-9aaad5e1-cdf9-4429-a8ae-c29815c63f18');\n",
              "          const dataTable =\n",
              "            await google.colab.kernel.invokeFunction('convertToInteractive',\n",
              "                                                     [key], {});\n",
              "          if (!dataTable) return;\n",
              "\n",
              "          const docLinkHtml = 'Like what you see? Visit the ' +\n",
              "            '<a target=\"_blank\" href=https://colab.research.google.com/notebooks/data_table.ipynb>data table notebook</a>'\n",
              "            + ' to learn more about interactive tables.';\n",
              "          element.innerHTML = '';\n",
              "          dataTable['output_type'] = 'display_data';\n",
              "          await google.colab.output.renderOutput(dataTable, element);\n",
              "          const docLink = document.createElement('div');\n",
              "          docLink.innerHTML = docLinkHtml;\n",
              "          element.appendChild(docLink);\n",
              "        }\n",
              "      </script>\n",
              "    </div>\n",
              "  </div>\n",
              "  "
            ]
          },
          "metadata": {},
          "execution_count": 29
        }
      ],
      "source": [
        "\n",
        "# Convert string to datetime64\n",
        "df1['Year'] = df1['Year'].apply(pd.to_datetime,format='%Y')\n",
        "\n",
        "#Set Date column as the index column.\n",
        "df1['year'] = pd.DatetimeIndex(df1['Year']).year  \n",
        "df1.set_index('year', inplace=True)\n",
        "df1.drop('Year',axis=1,inplace=True)\n",
        "\n",
        "# Converting the sport column to uppercase\n",
        "df1['Sport'] = df1['Sport'].str.upper()\n",
        "df1.head()\n",
        "\n",
        "# df is the original dataframe while df1 is a copy where the Date has been set as an index column"
      ]
    },
    {
      "cell_type": "markdown",
      "metadata": {
        "id": "0nES54aKdl1s"
      },
      "source": [
        "\n",
        "# 2. World's Highest-Paid Athletes in 2020\n"
      ]
    },
    {
      "cell_type": "code",
      "execution_count": null,
      "metadata": {
        "_kg_hide-input": true,
        "execution": {
          "iopub.execute_input": "2021-07-18T11:50:21.833231Z",
          "iopub.status.busy": "2021-07-18T11:50:21.832857Z",
          "iopub.status.idle": "2021-07-18T11:50:23.456718Z",
          "shell.execute_reply": "2021-07-18T11:50:23.455834Z",
          "shell.execute_reply.started": "2021-07-18T11:50:21.833169Z"
        },
        "id": "IZHPo0yDdl1s"
      },
      "outputs": [],
      "source": [
        "data_2020 = df1[df1.index == 2020]\n",
        "\n",
        "trace = go.Bar(\n",
        "                    x = data_2020[\"earnings ($ million)\"],\n",
        "                    y = data_2020['Name'] ,\n",
        "                    orientation='h',\n",
        "                    marker = dict(color='pink',\n",
        "                                 line=dict(color='black',width=1)),\n",
        "                    )\n",
        "data = [trace]\n",
        "layout = go.Layout(barmode = \"group\",title=\"World's Highest-Paid Athletes in 2020\",width=800, height=500, \n",
        "                       xaxis= dict(title='No of times ranked higest'),\n",
        "                       yaxis=dict(autorange=\"reversed\"),\n",
        "                       showlegend=False)\n",
        "fig = go.Figure(data = data, layout = layout)\n",
        "iplot(fig)\n",
        "\n"
      ]
    },
    {
      "cell_type": "markdown",
      "metadata": {
        "id": "SNbMFHvKdl1t"
      },
      "source": [
        ""
      ]
    },
    {
      "cell_type": "markdown",
      "metadata": {
        "id": "VQnM6n49dl1t"
      },
      "source": [
        " # 3. Analysis of Higest paid Athlete each year from 1990 to 2020\n",
        "---"
      ]
    },
    {
      "cell_type": "code",
      "execution_count": null,
      "metadata": {
        "execution": {
          "iopub.execute_input": "2021-07-18T11:50:23.458682Z",
          "iopub.status.busy": "2021-07-18T11:50:23.458364Z",
          "iopub.status.idle": "2021-07-18T11:50:23.556489Z",
          "shell.execute_reply": "2021-07-18T11:50:23.555550Z",
          "shell.execute_reply.started": "2021-07-18T11:50:23.458624Z"
        },
        "colab": {
          "base_uri": "https://localhost:8080/",
          "height": 1000
        },
        "id": "-Fga8Gfldl1t",
        "outputId": "65f2ce34-864a-4faf-9c9f-70e6188f9294"
      },
      "outputs": [
        {
          "output_type": "execute_result",
          "data": {
            "text/plain": [
              "<pandas.io.formats.style.Styler at 0x7fb8b2e55810>"
            ],
            "text/html": [
              "<style type=\"text/css\">\n",
              "#T_a0e6e_row0_col3 {\n",
              "  background-color: #fcaf93;\n",
              "  color: #000000;\n",
              "}\n",
              "#T_a0e6e_row1_col3 {\n",
              "  background-color: #fc9777;\n",
              "  color: #000000;\n",
              "}\n",
              "#T_a0e6e_row2_col3 {\n",
              "  background-color: #820711;\n",
              "  color: #f1f1f1;\n",
              "}\n",
              "#T_a0e6e_row3_col3 {\n",
              "  background-color: #fcbfa7;\n",
              "  color: #000000;\n",
              "}\n",
              "#T_a0e6e_row4_col3 {\n",
              "  background-color: #fcc4ad;\n",
              "  color: #000000;\n",
              "}\n",
              "#T_a0e6e_row5_col3 {\n",
              "  background-color: #67000d;\n",
              "  color: #f1f1f1;\n",
              "}\n",
              "#T_a0e6e_row6_col3, #T_a0e6e_row10_col3 {\n",
              "  background-color: #fcb095;\n",
              "  color: #000000;\n",
              "}\n",
              "#T_a0e6e_row7_col3, #T_a0e6e_row17_col3, #T_a0e6e_row22_col3 {\n",
              "  background-color: #fdd0bc;\n",
              "  color: #000000;\n",
              "}\n",
              "#T_a0e6e_row8_col3 {\n",
              "  background-color: #fdc7b2;\n",
              "  color: #000000;\n",
              "}\n",
              "#T_a0e6e_row9_col3, #T_a0e6e_row23_col3 {\n",
              "  background-color: #fdd3c1;\n",
              "  color: #000000;\n",
              "}\n",
              "#T_a0e6e_row11_col3 {\n",
              "  background-color: #fcab8f;\n",
              "  color: #000000;\n",
              "}\n",
              "#T_a0e6e_row12_col3 {\n",
              "  background-color: #fca588;\n",
              "  color: #000000;\n",
              "}\n",
              "#T_a0e6e_row13_col3 {\n",
              "  background-color: #fcb79c;\n",
              "  color: #000000;\n",
              "}\n",
              "#T_a0e6e_row14_col3 {\n",
              "  background-color: #fcc3ab;\n",
              "  color: #000000;\n",
              "}\n",
              "#T_a0e6e_row15_col3 {\n",
              "  background-color: #fdc5ae;\n",
              "  color: #000000;\n",
              "}\n",
              "#T_a0e6e_row16_col3 {\n",
              "  background-color: #fdcdb9;\n",
              "  color: #000000;\n",
              "}\n",
              "#T_a0e6e_row18_col3, #T_a0e6e_row21_col3 {\n",
              "  background-color: #fed9c9;\n",
              "  color: #000000;\n",
              "}\n",
              "#T_a0e6e_row19_col3 {\n",
              "  background-color: #fee3d6;\n",
              "  color: #000000;\n",
              "}\n",
              "#T_a0e6e_row20_col3 {\n",
              "  background-color: #fee8de;\n",
              "  color: #000000;\n",
              "}\n",
              "#T_a0e6e_row24_col3 {\n",
              "  background-color: #ffece3;\n",
              "  color: #000000;\n",
              "}\n",
              "#T_a0e6e_row25_col3 {\n",
              "  background-color: #fff4ef;\n",
              "  color: #000000;\n",
              "}\n",
              "#T_a0e6e_row26_col3, #T_a0e6e_row27_col3 {\n",
              "  background-color: #fff1ea;\n",
              "  color: #000000;\n",
              "}\n",
              "#T_a0e6e_row28_col3 {\n",
              "  background-color: #fee1d4;\n",
              "  color: #000000;\n",
              "}\n",
              "#T_a0e6e_row29_col3 {\n",
              "  background-color: #fff5f0;\n",
              "  color: #000000;\n",
              "}\n",
              "</style>\n",
              "<table id=\"T_a0e6e_\" class=\"dataframe\">\n",
              "  <thead>\n",
              "    <tr>\n",
              "      <th class=\"blank level0\" >&nbsp;</th>\n",
              "      <th class=\"col_heading level0 col0\" >Name</th>\n",
              "      <th class=\"col_heading level0 col1\" >Sport</th>\n",
              "      <th class=\"col_heading level0 col2\" >Nationality</th>\n",
              "      <th class=\"col_heading level0 col3\" >earnings ($ million)</th>\n",
              "    </tr>\n",
              "    <tr>\n",
              "      <th class=\"index_name level0\" >year</th>\n",
              "      <th class=\"blank col0\" >&nbsp;</th>\n",
              "      <th class=\"blank col1\" >&nbsp;</th>\n",
              "      <th class=\"blank col2\" >&nbsp;</th>\n",
              "      <th class=\"blank col3\" >&nbsp;</th>\n",
              "    </tr>\n",
              "  </thead>\n",
              "  <tbody>\n",
              "    <tr>\n",
              "      <th id=\"T_a0e6e_level0_row0\" class=\"row_heading level0 row0\" >2020</th>\n",
              "      <td id=\"T_a0e6e_row0_col0\" class=\"data row0 col0\" >Roger Federer</td>\n",
              "      <td id=\"T_a0e6e_row0_col1\" class=\"data row0 col1\" >TENNIS</td>\n",
              "      <td id=\"T_a0e6e_row0_col2\" class=\"data row0 col2\" >Switzerland</td>\n",
              "      <td id=\"T_a0e6e_row0_col3\" class=\"data row0 col3\" >106.300000</td>\n",
              "    </tr>\n",
              "    <tr>\n",
              "      <th id=\"T_a0e6e_level0_row1\" class=\"row_heading level0 row1\" >2019</th>\n",
              "      <td id=\"T_a0e6e_row1_col0\" class=\"data row1 col0\" >Lionel Messi</td>\n",
              "      <td id=\"T_a0e6e_row1_col1\" class=\"data row1 col1\" >SOCCER</td>\n",
              "      <td id=\"T_a0e6e_row1_col2\" class=\"data row1 col2\" >Argentina</td>\n",
              "      <td id=\"T_a0e6e_row1_col3\" class=\"data row1 col3\" >127.000000</td>\n",
              "    </tr>\n",
              "    <tr>\n",
              "      <th id=\"T_a0e6e_level0_row2\" class=\"row_heading level0 row2\" >2018</th>\n",
              "      <td id=\"T_a0e6e_row2_col0\" class=\"data row2 col0\" >Floyd Mayweather</td>\n",
              "      <td id=\"T_a0e6e_row2_col1\" class=\"data row2 col1\" >BOXING</td>\n",
              "      <td id=\"T_a0e6e_row2_col2\" class=\"data row2 col2\" >USA</td>\n",
              "      <td id=\"T_a0e6e_row2_col3\" class=\"data row2 col3\" >285.000000</td>\n",
              "    </tr>\n",
              "    <tr>\n",
              "      <th id=\"T_a0e6e_level0_row3\" class=\"row_heading level0 row3\" >2017</th>\n",
              "      <td id=\"T_a0e6e_row3_col0\" class=\"data row3 col0\" >Cristiano Ronaldo</td>\n",
              "      <td id=\"T_a0e6e_row3_col1\" class=\"data row3 col1\" >SOCCER</td>\n",
              "      <td id=\"T_a0e6e_row3_col2\" class=\"data row3 col2\" >Portugal</td>\n",
              "      <td id=\"T_a0e6e_row3_col3\" class=\"data row3 col3\" >93.000000</td>\n",
              "    </tr>\n",
              "    <tr>\n",
              "      <th id=\"T_a0e6e_level0_row4\" class=\"row_heading level0 row4\" >2016</th>\n",
              "      <td id=\"T_a0e6e_row4_col0\" class=\"data row4 col0\" >Cristiano Ronaldo</td>\n",
              "      <td id=\"T_a0e6e_row4_col1\" class=\"data row4 col1\" >SOCCER</td>\n",
              "      <td id=\"T_a0e6e_row4_col2\" class=\"data row4 col2\" >Portugal</td>\n",
              "      <td id=\"T_a0e6e_row4_col3\" class=\"data row4 col3\" >88.000000</td>\n",
              "    </tr>\n",
              "    <tr>\n",
              "      <th id=\"T_a0e6e_level0_row5\" class=\"row_heading level0 row5\" >2015</th>\n",
              "      <td id=\"T_a0e6e_row5_col0\" class=\"data row5 col0\" >Floyd Mayweather</td>\n",
              "      <td id=\"T_a0e6e_row5_col1\" class=\"data row5 col1\" >BOXING</td>\n",
              "      <td id=\"T_a0e6e_row5_col2\" class=\"data row5 col2\" >USA</td>\n",
              "      <td id=\"T_a0e6e_row5_col3\" class=\"data row5 col3\" >300.000000</td>\n",
              "    </tr>\n",
              "    <tr>\n",
              "      <th id=\"T_a0e6e_level0_row6\" class=\"row_heading level0 row6\" >2014</th>\n",
              "      <td id=\"T_a0e6e_row6_col0\" class=\"data row6 col0\" >Floyd Mayweather</td>\n",
              "      <td id=\"T_a0e6e_row6_col1\" class=\"data row6 col1\" >BOXING</td>\n",
              "      <td id=\"T_a0e6e_row6_col2\" class=\"data row6 col2\" >USA</td>\n",
              "      <td id=\"T_a0e6e_row6_col3\" class=\"data row6 col3\" >105.000000</td>\n",
              "    </tr>\n",
              "    <tr>\n",
              "      <th id=\"T_a0e6e_level0_row7\" class=\"row_heading level0 row7\" >2013</th>\n",
              "      <td id=\"T_a0e6e_row7_col0\" class=\"data row7 col0\" >Tiger Woods</td>\n",
              "      <td id=\"T_a0e6e_row7_col1\" class=\"data row7 col1\" >GOLF</td>\n",
              "      <td id=\"T_a0e6e_row7_col2\" class=\"data row7 col2\" >USA</td>\n",
              "      <td id=\"T_a0e6e_row7_col3\" class=\"data row7 col3\" >78.100000</td>\n",
              "    </tr>\n",
              "    <tr>\n",
              "      <th id=\"T_a0e6e_level0_row8\" class=\"row_heading level0 row8\" >2012</th>\n",
              "      <td id=\"T_a0e6e_row8_col0\" class=\"data row8 col0\" >Floyd Mayweather</td>\n",
              "      <td id=\"T_a0e6e_row8_col1\" class=\"data row8 col1\" >BOXING</td>\n",
              "      <td id=\"T_a0e6e_row8_col2\" class=\"data row8 col2\" >USA</td>\n",
              "      <td id=\"T_a0e6e_row8_col3\" class=\"data row8 col3\" >85.000000</td>\n",
              "    </tr>\n",
              "    <tr>\n",
              "      <th id=\"T_a0e6e_level0_row9\" class=\"row_heading level0 row9\" >2011</th>\n",
              "      <td id=\"T_a0e6e_row9_col0\" class=\"data row9 col0\" >Tiger Woods</td>\n",
              "      <td id=\"T_a0e6e_row9_col1\" class=\"data row9 col1\" >GOLF</td>\n",
              "      <td id=\"T_a0e6e_row9_col2\" class=\"data row9 col2\" >USA</td>\n",
              "      <td id=\"T_a0e6e_row9_col3\" class=\"data row9 col3\" >75.000000</td>\n",
              "    </tr>\n",
              "    <tr>\n",
              "      <th id=\"T_a0e6e_level0_row10\" class=\"row_heading level0 row10\" >2010</th>\n",
              "      <td id=\"T_a0e6e_row10_col0\" class=\"data row10 col0\" >Tiger Woods</td>\n",
              "      <td id=\"T_a0e6e_row10_col1\" class=\"data row10 col1\" >GOLF</td>\n",
              "      <td id=\"T_a0e6e_row10_col2\" class=\"data row10 col2\" >USA</td>\n",
              "      <td id=\"T_a0e6e_row10_col3\" class=\"data row10 col3\" >105.000000</td>\n",
              "    </tr>\n",
              "    <tr>\n",
              "      <th id=\"T_a0e6e_level0_row11\" class=\"row_heading level0 row11\" >2009</th>\n",
              "      <td id=\"T_a0e6e_row11_col0\" class=\"data row11 col0\" >Tiger Woods</td>\n",
              "      <td id=\"T_a0e6e_row11_col1\" class=\"data row11 col1\" >GOLF</td>\n",
              "      <td id=\"T_a0e6e_row11_col2\" class=\"data row11 col2\" >USA</td>\n",
              "      <td id=\"T_a0e6e_row11_col3\" class=\"data row11 col3\" >110.000000</td>\n",
              "    </tr>\n",
              "    <tr>\n",
              "      <th id=\"T_a0e6e_level0_row12\" class=\"row_heading level0 row12\" >2008</th>\n",
              "      <td id=\"T_a0e6e_row12_col0\" class=\"data row12 col0\" >Tiger Woods</td>\n",
              "      <td id=\"T_a0e6e_row12_col1\" class=\"data row12 col1\" >GOLF</td>\n",
              "      <td id=\"T_a0e6e_row12_col2\" class=\"data row12 col2\" >USA</td>\n",
              "      <td id=\"T_a0e6e_row12_col3\" class=\"data row12 col3\" >115.000000</td>\n",
              "    </tr>\n",
              "    <tr>\n",
              "      <th id=\"T_a0e6e_level0_row13\" class=\"row_heading level0 row13\" >2007</th>\n",
              "      <td id=\"T_a0e6e_row13_col0\" class=\"data row13 col0\" >Tiger Woods</td>\n",
              "      <td id=\"T_a0e6e_row13_col1\" class=\"data row13 col1\" >GOLF</td>\n",
              "      <td id=\"T_a0e6e_row13_col2\" class=\"data row13 col2\" >USA</td>\n",
              "      <td id=\"T_a0e6e_row13_col3\" class=\"data row13 col3\" >100.000000</td>\n",
              "    </tr>\n",
              "    <tr>\n",
              "      <th id=\"T_a0e6e_level0_row14\" class=\"row_heading level0 row14\" >2006</th>\n",
              "      <td id=\"T_a0e6e_row14_col0\" class=\"data row14 col0\" >Tiger Woods</td>\n",
              "      <td id=\"T_a0e6e_row14_col1\" class=\"data row14 col1\" >GOLF</td>\n",
              "      <td id=\"T_a0e6e_row14_col2\" class=\"data row14 col2\" >USA</td>\n",
              "      <td id=\"T_a0e6e_row14_col3\" class=\"data row14 col3\" >90.000000</td>\n",
              "    </tr>\n",
              "    <tr>\n",
              "      <th id=\"T_a0e6e_level0_row15\" class=\"row_heading level0 row15\" >2005</th>\n",
              "      <td id=\"T_a0e6e_row15_col0\" class=\"data row15 col0\" >Tiger Woods</td>\n",
              "      <td id=\"T_a0e6e_row15_col1\" class=\"data row15 col1\" >GOLF</td>\n",
              "      <td id=\"T_a0e6e_row15_col2\" class=\"data row15 col2\" >USA</td>\n",
              "      <td id=\"T_a0e6e_row15_col3\" class=\"data row15 col3\" >87.000000</td>\n",
              "    </tr>\n",
              "    <tr>\n",
              "      <th id=\"T_a0e6e_level0_row16\" class=\"row_heading level0 row16\" >2004</th>\n",
              "      <td id=\"T_a0e6e_row16_col0\" class=\"data row16 col0\" >Tiger Woods</td>\n",
              "      <td id=\"T_a0e6e_row16_col1\" class=\"data row16 col1\" >GOLF</td>\n",
              "      <td id=\"T_a0e6e_row16_col2\" class=\"data row16 col2\" >USA</td>\n",
              "      <td id=\"T_a0e6e_row16_col3\" class=\"data row16 col3\" >80.300000</td>\n",
              "    </tr>\n",
              "    <tr>\n",
              "      <th id=\"T_a0e6e_level0_row17\" class=\"row_heading level0 row17\" >2003</th>\n",
              "      <td id=\"T_a0e6e_row17_col0\" class=\"data row17 col0\" >Tiger Woods</td>\n",
              "      <td id=\"T_a0e6e_row17_col1\" class=\"data row17 col1\" >GOLF</td>\n",
              "      <td id=\"T_a0e6e_row17_col2\" class=\"data row17 col2\" >USA</td>\n",
              "      <td id=\"T_a0e6e_row17_col3\" class=\"data row17 col3\" >78.000000</td>\n",
              "    </tr>\n",
              "    <tr>\n",
              "      <th id=\"T_a0e6e_level0_row18\" class=\"row_heading level0 row18\" >2002</th>\n",
              "      <td id=\"T_a0e6e_row18_col0\" class=\"data row18 col0\" >Tiger Woods</td>\n",
              "      <td id=\"T_a0e6e_row18_col1\" class=\"data row18 col1\" >GOLF</td>\n",
              "      <td id=\"T_a0e6e_row18_col2\" class=\"data row18 col2\" >USA</td>\n",
              "      <td id=\"T_a0e6e_row18_col3\" class=\"data row18 col3\" >69.000000</td>\n",
              "    </tr>\n",
              "    <tr>\n",
              "      <th id=\"T_a0e6e_level0_row19\" class=\"row_heading level0 row19\" >2000</th>\n",
              "      <td id=\"T_a0e6e_row19_col0\" class=\"data row19 col0\" >Michael Schumacher</td>\n",
              "      <td id=\"T_a0e6e_row19_col1\" class=\"data row19 col1\" >AUTO RACING</td>\n",
              "      <td id=\"T_a0e6e_row19_col2\" class=\"data row19 col2\" >Germany</td>\n",
              "      <td id=\"T_a0e6e_row19_col3\" class=\"data row19 col3\" >59.000000</td>\n",
              "    </tr>\n",
              "    <tr>\n",
              "      <th id=\"T_a0e6e_level0_row20\" class=\"row_heading level0 row20\" >1999</th>\n",
              "      <td id=\"T_a0e6e_row20_col0\" class=\"data row20 col0\" >Michael Schumacher</td>\n",
              "      <td id=\"T_a0e6e_row20_col1\" class=\"data row20 col1\" >AUTO RACING</td>\n",
              "      <td id=\"T_a0e6e_row20_col2\" class=\"data row20 col2\" >Germany</td>\n",
              "      <td id=\"T_a0e6e_row20_col3\" class=\"data row20 col3\" >49.000000</td>\n",
              "    </tr>\n",
              "    <tr>\n",
              "      <th id=\"T_a0e6e_level0_row21\" class=\"row_heading level0 row21\" >1998</th>\n",
              "      <td id=\"T_a0e6e_row21_col0\" class=\"data row21 col0\" >Michael Jordan</td>\n",
              "      <td id=\"T_a0e6e_row21_col1\" class=\"data row21 col1\" >BASKETBALL</td>\n",
              "      <td id=\"T_a0e6e_row21_col2\" class=\"data row21 col2\" >USA</td>\n",
              "      <td id=\"T_a0e6e_row21_col3\" class=\"data row21 col3\" >69.000000</td>\n",
              "    </tr>\n",
              "    <tr>\n",
              "      <th id=\"T_a0e6e_level0_row22\" class=\"row_heading level0 row22\" >1997</th>\n",
              "      <td id=\"T_a0e6e_row22_col0\" class=\"data row22 col0\" >Michael Jordan</td>\n",
              "      <td id=\"T_a0e6e_row22_col1\" class=\"data row22 col1\" >BASKETBALL</td>\n",
              "      <td id=\"T_a0e6e_row22_col2\" class=\"data row22 col2\" >USA</td>\n",
              "      <td id=\"T_a0e6e_row22_col3\" class=\"data row22 col3\" >78.300000</td>\n",
              "    </tr>\n",
              "    <tr>\n",
              "      <th id=\"T_a0e6e_level0_row23\" class=\"row_heading level0 row23\" >1996</th>\n",
              "      <td id=\"T_a0e6e_row23_col0\" class=\"data row23 col0\" >Mike Tyson</td>\n",
              "      <td id=\"T_a0e6e_row23_col1\" class=\"data row23 col1\" >BOXING</td>\n",
              "      <td id=\"T_a0e6e_row23_col2\" class=\"data row23 col2\" >USA</td>\n",
              "      <td id=\"T_a0e6e_row23_col3\" class=\"data row23 col3\" >75.000000</td>\n",
              "    </tr>\n",
              "    <tr>\n",
              "      <th id=\"T_a0e6e_level0_row24\" class=\"row_heading level0 row24\" >1995</th>\n",
              "      <td id=\"T_a0e6e_row24_col0\" class=\"data row24 col0\" >Michael Jordan</td>\n",
              "      <td id=\"T_a0e6e_row24_col1\" class=\"data row24 col1\" >BASKETBALL</td>\n",
              "      <td id=\"T_a0e6e_row24_col2\" class=\"data row24 col2\" >USA</td>\n",
              "      <td id=\"T_a0e6e_row24_col3\" class=\"data row24 col3\" >43.900000</td>\n",
              "    </tr>\n",
              "    <tr>\n",
              "      <th id=\"T_a0e6e_level0_row25\" class=\"row_heading level0 row25\" >1994</th>\n",
              "      <td id=\"T_a0e6e_row25_col0\" class=\"data row25 col0\" >Michael Jordan</td>\n",
              "      <td id=\"T_a0e6e_row25_col1\" class=\"data row25 col1\" >BASKETBALL</td>\n",
              "      <td id=\"T_a0e6e_row25_col2\" class=\"data row25 col2\" >USA</td>\n",
              "      <td id=\"T_a0e6e_row25_col3\" class=\"data row25 col3\" >30.000000</td>\n",
              "    </tr>\n",
              "    <tr>\n",
              "      <th id=\"T_a0e6e_level0_row26\" class=\"row_heading level0 row26\" >1993</th>\n",
              "      <td id=\"T_a0e6e_row26_col0\" class=\"data row26 col0\" >Michael Jordan</td>\n",
              "      <td id=\"T_a0e6e_row26_col1\" class=\"data row26 col1\" >BASKETBALL</td>\n",
              "      <td id=\"T_a0e6e_row26_col2\" class=\"data row26 col2\" >USA</td>\n",
              "      <td id=\"T_a0e6e_row26_col3\" class=\"data row26 col3\" >36.000000</td>\n",
              "    </tr>\n",
              "    <tr>\n",
              "      <th id=\"T_a0e6e_level0_row27\" class=\"row_heading level0 row27\" >1992</th>\n",
              "      <td id=\"T_a0e6e_row27_col0\" class=\"data row27 col0\" >Michael Jordan</td>\n",
              "      <td id=\"T_a0e6e_row27_col1\" class=\"data row27 col1\" >BASKETBALL</td>\n",
              "      <td id=\"T_a0e6e_row27_col2\" class=\"data row27 col2\" >USA</td>\n",
              "      <td id=\"T_a0e6e_row27_col3\" class=\"data row27 col3\" >35.900000</td>\n",
              "    </tr>\n",
              "    <tr>\n",
              "      <th id=\"T_a0e6e_level0_row28\" class=\"row_heading level0 row28\" >1991</th>\n",
              "      <td id=\"T_a0e6e_row28_col0\" class=\"data row28 col0\" >Evander Holyfield</td>\n",
              "      <td id=\"T_a0e6e_row28_col1\" class=\"data row28 col1\" >BOXING</td>\n",
              "      <td id=\"T_a0e6e_row28_col2\" class=\"data row28 col2\" >USA</td>\n",
              "      <td id=\"T_a0e6e_row28_col3\" class=\"data row28 col3\" >60.500000</td>\n",
              "    </tr>\n",
              "    <tr>\n",
              "      <th id=\"T_a0e6e_level0_row29\" class=\"row_heading level0 row29\" >1990</th>\n",
              "      <td id=\"T_a0e6e_row29_col0\" class=\"data row29 col0\" >Mike Tyson</td>\n",
              "      <td id=\"T_a0e6e_row29_col1\" class=\"data row29 col1\" >BOXING</td>\n",
              "      <td id=\"T_a0e6e_row29_col2\" class=\"data row29 col2\" >USA</td>\n",
              "      <td id=\"T_a0e6e_row29_col3\" class=\"data row29 col3\" >28.600000</td>\n",
              "    </tr>\n",
              "  </tbody>\n",
              "</table>\n"
            ]
          },
          "metadata": {},
          "execution_count": 7
        }
      ],
      "source": [
        "# Top Paid Athlete for Each Year\n",
        "Top_paid_each_year = df1[df1['Current Rank'] == 1].sort_values(by='year',ascending=False)\n",
        "\n",
        "z = Top_paid_each_year[['Name','Sport','Nationality','earnings ($ million)']]\n",
        "\n",
        "#z.style.set_properties(**{'background-color': 'pink',\n",
        "                           # 'color': 'black',\n",
        "                            #'border-color': 'white'})\n",
        "z.style.background_gradient(cmap='Reds')  "
      ]
    },
    {
      "cell_type": "markdown",
      "metadata": {
        "id": "-X-TEeTudl1t"
      },
      "source": [
        "## Athlete earning the most,maximum number of times"
      ]
    },
    {
      "cell_type": "code",
      "execution_count": null,
      "metadata": {
        "execution": {
          "iopub.execute_input": "2021-07-18T11:50:23.559854Z",
          "iopub.status.busy": "2021-07-18T11:50:23.559607Z",
          "iopub.status.idle": "2021-07-18T11:50:23.933313Z",
          "shell.execute_reply": "2021-07-18T11:50:23.932398Z",
          "shell.execute_reply.started": "2021-07-18T11:50:23.559822Z"
        },
        "id": "zJfECT0Edl1u"
      },
      "outputs": [],
      "source": [
        "counts_top = Top_paid_each_year['Name'].value_counts().to_frame()\n",
        "\n",
        "\n",
        "trace = go.Bar(\n",
        "                    y = counts_top.index,\n",
        "                    x = counts_top['Name'] ,\n",
        "                    orientation='h',\n",
        "                    marker = dict(color='pink',\n",
        "                                 line=dict(color='black',width=1)),\n",
        "                    )\n",
        "data = [trace]\n",
        "layout = go.Layout(barmode = \"group\",title='Athlete earning the most,maximum number of times',width=800, height=500, \n",
        "                       xaxis= dict(title='No of times ranked higest'),\n",
        "                       yaxis=dict(autorange=\"reversed\"),\n",
        "                       showlegend=False)\n",
        "fig = go.Figure(data = data, layout = layout)\n",
        "iplot(fig)\n"
      ]
    },
    {
      "cell_type": "code",
      "execution_count": null,
      "metadata": {
        "_kg_hide-input": true,
        "execution": {
          "iopub.execute_input": "2021-07-18T11:50:23.934679Z",
          "iopub.status.busy": "2021-07-18T11:50:23.934453Z",
          "iopub.status.idle": "2021-07-18T11:50:23.961904Z",
          "shell.execute_reply": "2021-07-18T11:50:23.960516Z",
          "shell.execute_reply.started": "2021-07-18T11:50:23.934639Z"
        },
        "id": "_0zpiUrmdl1u"
      },
      "outputs": [],
      "source": [
        "total_earnings = Top_paid_each_year.groupby('Name')['earnings ($ million)'].sum().to_frame().reset_index()\n",
        "top_ranks = Top_paid_each_year['Name'].value_counts().to_frame().reset_index()\n",
        "top_ranks.rename(columns={'index':'Name',\n",
        "                          'Name':'Rank_counts'}, inplace=True)\n",
        "df_compare = total_earnings.merge(top_ranks, on='Name')\n"
      ]
    },
    {
      "cell_type": "code",
      "execution_count": null,
      "metadata": {
        "_kg_hide-input": true,
        "execution": {
          "iopub.execute_input": "2021-07-18T11:50:23.964269Z",
          "iopub.status.busy": "2021-07-18T11:50:23.963734Z",
          "iopub.status.idle": "2021-07-18T11:50:24.274972Z",
          "shell.execute_reply": "2021-07-18T11:50:24.273756Z",
          "shell.execute_reply.started": "2021-07-18T11:50:23.964205Z"
        },
        "id": "kIlLIBfedl1u"
      },
      "outputs": [],
      "source": [
        "#source: https://www.kaggle.com/kanncaa1/plotly-tutorial-for-beginners#Bar-Charts\n",
        "\n",
        "import plotly.graph_objs as go\n",
        "from plotly import tools\n",
        "trace0 = go.Bar(\n",
        "                y=df_compare['Name'],\n",
        "                x=df_compare['Rank_counts'],\n",
        "                marker=dict(color='rgba(171, 50, 96, 0.6)',line=dict(color='rgba(171, 50, 96, 1.0)',width=1)),\n",
        "                name='Top Ranks',\n",
        "                orientation='h',\n",
        ")\n",
        "\n",
        "trace1 = go.Scatter(\n",
        "                y=df_compare['Name'],\n",
        "                x=df_compare['earnings ($ million)'],\n",
        "                mode='lines+markers',\n",
        "                line=dict(color='rgb(63, 72, 204)'),\n",
        "                name='income',\n",
        ")\n",
        "\n",
        "layout = dict(\n",
        "                title='Income and Top Ranks',\n",
        "                yaxis=dict(showticklabels=True,domain=[0, 0.85]),\n",
        "                yaxis2=dict(showline=True,showticklabels=False,linecolor='rgba(102, 102, 102, 0.8)',linewidth=2,domain=[0, 0.85]),\n",
        "                xaxis=dict(zeroline=False,showline=False,showticklabels=True,showgrid=True,domain=[0, 0.42]),\n",
        "                xaxis2=dict(zeroline=False,showline=False,showticklabels=False,showgrid=True,domain=[0.47, 1],side='top',dtick=25),\n",
        "                legend=dict(x=0.029,y=1.038,font=dict(size=10) ),\n",
        "                margin=dict(l=200, r=20,t=70,b=70),\n",
        "                paper_bgcolor='rgb(248, 248, 255)',\n",
        "                plot_bgcolor='rgb(248, 248, 255)',\n",
        ")\n",
        "\n",
        "annotations = []\n",
        "y_s = df_compare['Rank_counts']\n",
        "y_nw = np.rint(df_compare['earnings ($ million)'])\n",
        "# Adding labels\n",
        "for ydn, yd, xd in zip(y_nw, y_s, df_compare['Name']):\n",
        "    # labeling the scatter savings\n",
        "    annotations.append(dict(xref='x2', yref='y2', y=xd, x=ydn-1,text='{:,}'.format(ydn),font=dict(family='Arial', size=12,color='rgb(63, 72, 204)'),showarrow=False))\n",
        "    # labeling the bar net worth\n",
        "    annotations.append(dict(xref='x1', yref='y1', y=xd, x=yd+1,text=str(yd),font=dict(family='Arial', size=12,color='rgb(171, 50, 96)'),showarrow=False))\n",
        "\n",
        "layout['annotations'] = annotations\n",
        "\n",
        "\n",
        "# Creating two subplots\n",
        "fig = tools.make_subplots(rows=1, cols=2, specs=[[{}, {}]], shared_xaxes=True,\n",
        "                          shared_yaxes=False, vertical_spacing=0.001)\n",
        "\n",
        "fig.append_trace(trace0, 1, 1)\n",
        "fig.append_trace(trace1, 1, 2)\n",
        "\n",
        "fig['layout'].update(layout)\n",
        "fig.show()"
      ]
    },
    {
      "cell_type": "markdown",
      "metadata": {
        "id": "daaqcD-xdl1v"
      },
      "source": [
        "## Country which produces the maximum earners in Sports"
      ]
    },
    {
      "cell_type": "code",
      "execution_count": null,
      "metadata": {
        "execution": {
          "iopub.execute_input": "2021-07-18T11:50:24.276752Z",
          "iopub.status.busy": "2021-07-18T11:50:24.276479Z",
          "iopub.status.idle": "2021-07-18T11:50:24.777364Z",
          "shell.execute_reply": "2021-07-18T11:50:24.776533Z",
          "shell.execute_reply.started": "2021-07-18T11:50:24.276708Z"
        },
        "id": "3n_Cytj3dl1v"
      },
      "outputs": [],
      "source": [
        "counts_top = Top_paid_each_year['Nationality'].value_counts().to_frame()\n",
        "\n",
        "\n",
        "trace = go.Bar(\n",
        "                    x = counts_top.index,\n",
        "                    y = counts_top['Nationality'] ,\n",
        "                    orientation='v',\n",
        "                    marker = dict(color='pink',\n",
        "                                 line=dict(color='black',width=1)),\n",
        "                    )\n",
        "data = [trace]\n",
        "layout = go.Layout(barmode = \"group\",title='Country which produces the maximum earners in Sports',width=800, height=500, \n",
        "                       xaxis= dict(title='No of times ranked higest'),\n",
        "                       #yaxis=dict(autorange=\"reversed\"),\n",
        "                       showlegend=False)\n",
        "fig = go.Figure(data = data, layout = layout)\n",
        "iplot(fig)"
      ]
    },
    {
      "cell_type": "markdown",
      "metadata": {
        "id": "mHEkABRydl1w"
      },
      "source": [
        "## How much the Top Paid Athlete for Each Year, earn? "
      ]
    },
    {
      "cell_type": "code",
      "execution_count": null,
      "metadata": {
        "execution": {
          "iopub.execute_input": "2021-07-18T11:50:24.778896Z",
          "iopub.status.busy": "2021-07-18T11:50:24.778628Z",
          "iopub.status.idle": "2021-07-18T11:50:25.147201Z",
          "shell.execute_reply": "2021-07-18T11:50:25.146367Z",
          "shell.execute_reply.started": "2021-07-18T11:50:24.778849Z"
        },
        "id": "gKGZ7xgHdl1w"
      },
      "outputs": [],
      "source": [
        "\n",
        "\n",
        "trace = go.Scatter(\n",
        "                    x = Top_paid_each_year.index,\n",
        "                    y = Top_paid_each_year['earnings ($ million)'] ,\n",
        "                    orientation='v',\n",
        "                    marker = dict(color='red',\n",
        "                                 line=dict(color='royalblue',width=2)),\n",
        "                    )\n",
        "data = [trace]\n",
        "layout = go.Layout(title='How much did the Top Paid Athlete for Each Year, earn? ',width=800, height=500, \n",
        "                       xaxis= dict(title='Years'),\n",
        "                       yaxis=dict(title=\"Earning in US Dollars(million)\"),\n",
        "                       showlegend=False)\n",
        "fig = go.Figure(data = data, layout = layout)\n",
        "iplot(fig)"
      ]
    },
    {
      "cell_type": "markdown",
      "metadata": {
        "id": "W6jMd54Pdl1w"
      },
      "source": [
        "\n",
        "# 4. Analysis of the Top Ten Higest paid Athletes each year from 1990 to 2010\n",
        "---\n",
        "\n"
      ]
    },
    {
      "cell_type": "markdown",
      "metadata": {
        "id": "E9BZmsUCdl1w"
      },
      "source": [
        "## Sport which dominates in earnings"
      ]
    },
    {
      "cell_type": "code",
      "execution_count": null,
      "metadata": {
        "execution": {
          "iopub.execute_input": "2021-07-18T11:50:25.149358Z",
          "iopub.status.busy": "2021-07-18T11:50:25.149010Z",
          "iopub.status.idle": "2021-07-18T11:50:25.673683Z",
          "shell.execute_reply": "2021-07-18T11:50:25.672490Z",
          "shell.execute_reply.started": "2021-07-18T11:50:25.149285Z"
        },
        "id": "MFWlY58rdl1x"
      },
      "outputs": [],
      "source": [
        "df['Sport'] = df['Sport'].str.upper() # Converting the text to uppercase\n",
        "max_sport = df['Sport'].value_counts().to_frame()\n",
        "\n",
        "trace = go.Bar(\n",
        "                    y = max_sport.index,\n",
        "                    x = max_sport['Sport'] ,\n",
        "                    orientation='h',\n",
        "                    marker = dict(color='pink',\n",
        "                                 line=dict(color='black',width=1)),\n",
        "                    )\n",
        "data = [trace]\n",
        "layout = go.Layout(barmode = \"group\",title='Sport which dominates in earnings',width=800, height=500, \n",
        "                       xaxis= dict(title='No of times ranked highest'),\n",
        "                       yaxis=dict(autorange=\"reversed\"),\n",
        "                       showlegend=False)\n",
        "fig = go.Figure(data = data, layout = layout)\n",
        "iplot(fig)"
      ]
    },
    {
      "cell_type": "markdown",
      "metadata": {
        "id": "o0uXSz7Jdl1x"
      },
      "source": [
        "## Country which dominates in Sports earnings"
      ]
    },
    {
      "cell_type": "code",
      "execution_count": null,
      "metadata": {
        "execution": {
          "iopub.execute_input": "2021-07-18T11:50:25.675700Z",
          "iopub.status.busy": "2021-07-18T11:50:25.675351Z",
          "iopub.status.idle": "2021-07-18T11:50:26.068350Z",
          "shell.execute_reply": "2021-07-18T11:50:26.067581Z",
          "shell.execute_reply.started": "2021-07-18T11:50:25.675638Z"
        },
        "id": "IoEaSvYpdl1x"
      },
      "outputs": [],
      "source": [
        "\n",
        "max_sport = df['Nationality'].value_counts().to_frame()\n",
        "\n",
        "\n",
        "trace = go.Bar(\n",
        "                    y = max_sport.index,\n",
        "                    x = max_sport['Nationality'] ,\n",
        "                    orientation='h',\n",
        "                    marker = dict(color='pink',\n",
        "                                 line=dict(color='black',width=1)),\n",
        "                    )\n",
        "data = [trace]\n",
        "layout = go.Layout(barmode = \"group\",title='Country which dominates in Sports earningss',width=800, height=500, \n",
        "                       xaxis= dict(title='No of times ranked highest'),\n",
        "                       yaxis=dict(autorange=\"reversed\"),\n",
        "                       showlegend=False)\n",
        "fig = go.Figure(data = data, layout = layout)\n",
        "iplot(fig)"
      ]
    },
    {
      "cell_type": "markdown",
      "metadata": {
        "id": "VErCZdgOdl1x"
      },
      "source": [
        "## Athletes appearing maximum time on the list"
      ]
    },
    {
      "cell_type": "code",
      "execution_count": null,
      "metadata": {
        "execution": {
          "iopub.execute_input": "2021-07-18T11:50:26.070060Z",
          "iopub.status.busy": "2021-07-18T11:50:26.069691Z",
          "iopub.status.idle": "2021-07-18T11:50:26.088847Z",
          "shell.execute_reply": "2021-07-18T11:50:26.087936Z",
          "shell.execute_reply.started": "2021-07-18T11:50:26.069909Z"
        },
        "colab": {
          "base_uri": "https://localhost:8080/",
          "height": 206
        },
        "id": "L5BUxfzRdl1x",
        "outputId": "9f9f76de-1582-46ee-abea-61beb1065fed"
      },
      "outputs": [
        {
          "output_type": "execute_result",
          "data": {
            "text/plain": [
              "<pandas.io.formats.style.Styler at 0x7fb8b22e3fd0>"
            ],
            "text/html": [
              "<style type=\"text/css\">\n",
              "#T_19cf6_row0_col0, #T_19cf6_row1_col0 {\n",
              "  background-color: #67000d;\n",
              "  color: #f1f1f1;\n",
              "}\n",
              "#T_19cf6_row2_col0 {\n",
              "  background-color: #fdd4c2;\n",
              "  color: #000000;\n",
              "}\n",
              "#T_19cf6_row3_col0, #T_19cf6_row4_col0 {\n",
              "  background-color: #fff5f0;\n",
              "  color: #000000;\n",
              "}\n",
              "</style>\n",
              "<table id=\"T_19cf6_\" class=\"dataframe\">\n",
              "  <thead>\n",
              "    <tr>\n",
              "      <th class=\"blank level0\" >&nbsp;</th>\n",
              "      <th class=\"col_heading level0 col0\" >Name</th>\n",
              "    </tr>\n",
              "  </thead>\n",
              "  <tbody>\n",
              "    <tr>\n",
              "      <th id=\"T_19cf6_level0_row0\" class=\"row_heading level0 row0\" >Tiger Woods</th>\n",
              "      <td id=\"T_19cf6_row0_col0\" class=\"data row0 col0\" >19</td>\n",
              "    </tr>\n",
              "    <tr>\n",
              "      <th id=\"T_19cf6_level0_row1\" class=\"row_heading level0 row1\" >Michael Jordan</th>\n",
              "      <td id=\"T_19cf6_row1_col0\" class=\"data row1 col0\" >19</td>\n",
              "    </tr>\n",
              "    <tr>\n",
              "      <th id=\"T_19cf6_level0_row2\" class=\"row_heading level0 row2\" >Kobe Bryant</th>\n",
              "      <td id=\"T_19cf6_row2_col0\" class=\"data row2 col0\" >14</td>\n",
              "    </tr>\n",
              "    <tr>\n",
              "      <th id=\"T_19cf6_level0_row3\" class=\"row_heading level0 row3\" >LeBron James</th>\n",
              "      <td id=\"T_19cf6_row3_col0\" class=\"data row3 col0\" >13</td>\n",
              "    </tr>\n",
              "    <tr>\n",
              "      <th id=\"T_19cf6_level0_row4\" class=\"row_heading level0 row4\" >Michael Schumacher</th>\n",
              "      <td id=\"T_19cf6_row4_col0\" class=\"data row4 col0\" >13</td>\n",
              "    </tr>\n",
              "  </tbody>\n",
              "</table>\n"
            ]
          },
          "metadata": {},
          "execution_count": 15
        }
      ],
      "source": [
        "\n",
        "s = df['Name'].value_counts().to_frame()[:5]\n",
        "s.style.background_gradient(cmap='Reds')  \n"
      ]
    },
    {
      "cell_type": "markdown",
      "metadata": {
        "id": "0MO3fBrMdl1y"
      },
      "source": [
        "# 5. Where are the Women?\n",
        "---\n",
        "\n",
        "\n",
        "\n",
        "[Monica Seles](https://en.wikipedia.org/wiki/Monica_Seles) is the only female to make the list of top-10 highest paid athlete list so far. She did so in 1992.\n",
        "![](https://i.pinimg.com/originals/61/37/6b/61376b658905c296da43839a74fc5f56.jpg)\n",
        "PC: [Pinterest](https://in.pinterest.com/pin/360006563933324090/?lp=true)"
      ]
    },
    {
      "cell_type": "code",
      "execution_count": null,
      "metadata": {
        "execution": {
          "iopub.execute_input": "2021-07-18T11:50:26.090467Z",
          "iopub.status.busy": "2021-07-18T11:50:26.090179Z",
          "iopub.status.idle": "2021-07-18T11:50:26.116709Z",
          "shell.execute_reply": "2021-07-18T11:50:26.115659Z",
          "shell.execute_reply.started": "2021-07-18T11:50:26.090389Z"
        },
        "colab": {
          "base_uri": "https://localhost:8080/",
          "height": 81
        },
        "id": "4Vn08s7Qdl1y",
        "outputId": "960c7d30-b7e3-4e0d-f45d-f6c9cec1c011"
      },
      "outputs": [
        {
          "output_type": "execute_result",
          "data": {
            "text/plain": [
              "<pandas.io.formats.style.Styler at 0x7fb8b22f7790>"
            ],
            "text/html": [
              "<style type=\"text/css\">\n",
              "#T_894af_row0_col0, #T_894af_row0_col1, #T_894af_row0_col2, #T_894af_row0_col3, #T_894af_row0_col4, #T_894af_row0_col5, #T_894af_row0_col6, #T_894af_row0_col7 {\n",
              "  background-color: pink;\n",
              "  color: black;\n",
              "  border-color: black;\n",
              "}\n",
              "</style>\n",
              "<table id=\"T_894af_\" class=\"dataframe\">\n",
              "  <thead>\n",
              "    <tr>\n",
              "      <th class=\"blank level0\" >&nbsp;</th>\n",
              "      <th class=\"col_heading level0 col0\" >S.NO</th>\n",
              "      <th class=\"col_heading level0 col1\" >Name</th>\n",
              "      <th class=\"col_heading level0 col2\" >Nationality</th>\n",
              "      <th class=\"col_heading level0 col3\" >Current Rank</th>\n",
              "      <th class=\"col_heading level0 col4\" >Previous Year Rank</th>\n",
              "      <th class=\"col_heading level0 col5\" >Sport</th>\n",
              "      <th class=\"col_heading level0 col6\" >Year</th>\n",
              "      <th class=\"col_heading level0 col7\" >earnings ($ million)</th>\n",
              "    </tr>\n",
              "  </thead>\n",
              "  <tbody>\n",
              "    <tr>\n",
              "      <th id=\"T_894af_level0_row0\" class=\"row_heading level0 row0\" >29</th>\n",
              "      <td id=\"T_894af_row0_col0\" class=\"data row0 col0\" >30</td>\n",
              "      <td id=\"T_894af_row0_col1\" class=\"data row0 col1\" >Monica Seles</td>\n",
              "      <td id=\"T_894af_row0_col2\" class=\"data row0 col2\" >USA</td>\n",
              "      <td id=\"T_894af_row0_col3\" class=\"data row0 col3\" >10</td>\n",
              "      <td id=\"T_894af_row0_col4\" class=\"data row0 col4\" >12</td>\n",
              "      <td id=\"T_894af_row0_col5\" class=\"data row0 col5\" >TENNIS</td>\n",
              "      <td id=\"T_894af_row0_col6\" class=\"data row0 col6\" >1992</td>\n",
              "      <td id=\"T_894af_row0_col7\" class=\"data row0 col7\" >8.500000</td>\n",
              "    </tr>\n",
              "  </tbody>\n",
              "</table>\n"
            ]
          },
          "metadata": {},
          "execution_count": 16
        }
      ],
      "source": [
        "# People who have appeared once on the list.\n",
        "names = df['Name'].value_counts().to_frame()\n",
        "names[names['Name']==1].index\n",
        "\n",
        "# On scanning the list, we find the name of a sole women athlete- monica seles\n",
        "monica = df[df['Name'] == 'Monica Seles']\n",
        "monica.style.set_properties(**{'background-color': 'pink',\n",
        "                            'color': 'black',\n",
        "                            'border-color': 'black'})"
      ]
    },
    {
      "cell_type": "markdown",
      "metadata": {
        "id": "AovQz-5sdl1y"
      },
      "source": [
        "# 6. Analysis Top three earning players of all time\n",
        "---\n",
        "\n"
      ]
    },
    {
      "cell_type": "code",
      "execution_count": null,
      "metadata": {
        "execution": {
          "iopub.execute_input": "2021-07-18T11:50:26.118873Z",
          "iopub.status.busy": "2021-07-18T11:50:26.118249Z",
          "iopub.status.idle": "2021-07-18T11:50:26.150116Z",
          "shell.execute_reply": "2021-07-18T11:50:26.149078Z",
          "shell.execute_reply.started": "2021-07-18T11:50:26.118565Z"
        },
        "colab": {
          "base_uri": "https://localhost:8080/",
          "height": 174
        },
        "id": "vqSNmJ_6dl1y",
        "outputId": "e88c57dd-858c-4610-919a-b191f1e147e1"
      },
      "outputs": [
        {
          "output_type": "execute_result",
          "data": {
            "text/plain": [
              "<pandas.io.formats.style.Styler at 0x7fb8b24dc750>"
            ],
            "text/html": [
              "<style type=\"text/css\">\n",
              "#T_cab2f_row0_col0 {\n",
              "  background-color: #67000d;\n",
              "  color: #f1f1f1;\n",
              "}\n",
              "#T_cab2f_row1_col0 {\n",
              "  background-color: #fff4ee;\n",
              "  color: #000000;\n",
              "}\n",
              "#T_cab2f_row2_col0 {\n",
              "  background-color: #fff5f0;\n",
              "  color: #000000;\n",
              "}\n",
              "</style>\n",
              "<table id=\"T_cab2f_\" class=\"dataframe\">\n",
              "  <thead>\n",
              "    <tr>\n",
              "      <th class=\"blank level0\" >&nbsp;</th>\n",
              "      <th class=\"col_heading level0 col0\" >earnings ($ million)</th>\n",
              "    </tr>\n",
              "    <tr>\n",
              "      <th class=\"index_name level0\" >Name</th>\n",
              "      <th class=\"blank col0\" >&nbsp;</th>\n",
              "    </tr>\n",
              "  </thead>\n",
              "  <tbody>\n",
              "    <tr>\n",
              "      <th id=\"T_cab2f_level0_row0\" class=\"row_heading level0 row0\" >Tiger Woods</th>\n",
              "      <td id=\"T_cab2f_row0_col0\" class=\"data row0 col0\" >1373.800000</td>\n",
              "    </tr>\n",
              "    <tr>\n",
              "      <th id=\"T_cab2f_level0_row1\" class=\"row_heading level0 row1\" >LeBron James</th>\n",
              "      <td id=\"T_cab2f_row1_col0\" class=\"data row1 col0\" >844.800000</td>\n",
              "    </tr>\n",
              "    <tr>\n",
              "      <th id=\"T_cab2f_level0_row2\" class=\"row_heading level0 row2\" >Floyd Mayweather</th>\n",
              "      <td id=\"T_cab2f_row2_col0\" class=\"data row2 col0\" >840.000000</td>\n",
              "    </tr>\n",
              "  </tbody>\n",
              "</table>\n"
            ]
          },
          "metadata": {},
          "execution_count": 17
        }
      ],
      "source": [
        "top_earners_alltime = pd.pivot_table(df, index='Name',values=\"earnings ($ million)\", aggfunc='sum')\n",
        "top3_earners_all = top_earners_alltime.sort_values(by=\"earnings ($ million)\",ascending=False)[:3]\n",
        "\n",
        "top3_earners_all.style.background_gradient(cmap='Reds')  "
      ]
    },
    {
      "cell_type": "markdown",
      "metadata": {
        "id": "GK_yp2aidl1y"
      },
      "source": [
        "### Analysing Tiger Woods earnings over the years\n",
        "\n"
      ]
    },
    {
      "cell_type": "code",
      "execution_count": null,
      "metadata": {
        "_kg_hide-input": true,
        "_kg_hide-output": true,
        "execution": {
          "iopub.execute_input": "2021-07-18T11:50:26.151599Z",
          "iopub.status.busy": "2021-07-18T11:50:26.151286Z",
          "iopub.status.idle": "2021-07-18T11:50:26.162658Z",
          "shell.execute_reply": "2021-07-18T11:50:26.162085Z",
          "shell.execute_reply.started": "2021-07-18T11:50:26.151559Z"
        },
        "id": "DFzktAXJdl1z"
      },
      "outputs": [],
      "source": [
        "\n",
        "def earnings_plot(dataframe,athlete):\n",
        "    \"\"\"\n",
        "    function that creates a plotly line chart with image of the athlete in the background\n",
        "    \n",
        "    \n",
        "    \"\"\"\n",
        "    athlete_df = df1[df1['Name'] == athlete]\n",
        "\n",
        "    trace = go.Scatter(\n",
        "                    x = athlete_df.index,\n",
        "                    y = athlete_df['earnings ($ million)'] ,\n",
        "                    orientation='v',\n",
        "                    marker = dict(color='red',\n",
        "                                 line=dict(color='red',width=6)),\n",
        "                    )\n",
        "    data = [trace]\n",
        "    layout= go.Layout(title= f'{athlete}' +\"'s earnings over the Years\",\n",
        "                  xaxis=dict(title='Year'),\n",
        "                  yaxis=dict(title=\"Earnings in US$ (millions)\"),\n",
        "                  images= [dict(\n",
        "                          #source=Image.open(image_path),\n",
        "                          xref= \"paper\",\n",
        "                          yref= \"paper\",\n",
        "                          x= 0.5,\n",
        "                          y= 0.5,\n",
        "                          sizex= 1,\n",
        "                          sizey= 1,\n",
        "                          sizing= \"stretch\",\n",
        "                          xanchor= \"center\", \n",
        "                          yanchor=\"middle\",\n",
        "                          layer= \"below\")])\n",
        "    fig = go.Figure(data = data, layout = layout)\n",
        "    iplot(fig)\n"
      ]
    },
    {
      "cell_type": "code",
      "execution_count": null,
      "metadata": {
        "execution": {
          "iopub.execute_input": "2021-07-18T11:50:26.164103Z",
          "iopub.status.busy": "2021-07-18T11:50:26.163671Z",
          "iopub.status.idle": "2021-07-18T11:50:26.711621Z",
          "shell.execute_reply": "2021-07-18T11:50:26.710703Z",
          "shell.execute_reply.started": "2021-07-18T11:50:26.164053Z"
        },
        "id": "5GVT-dpydl1z"
      },
      "outputs": [],
      "source": [
        "image_path = \"/kaggle/input/profile-pics/tiger_woods.jpeg\"\n",
        "earnings_plot(df1,'Tiger Woods')"
      ]
    },
    {
      "cell_type": "markdown",
      "metadata": {
        "id": "p7iNwNZAdl1z"
      },
      "source": [
        "### Analysing Floyd Mayweather earnings over the years"
      ]
    },
    {
      "cell_type": "code",
      "execution_count": null,
      "metadata": {
        "execution": {
          "iopub.execute_input": "2021-07-18T11:50:26.713359Z",
          "iopub.status.busy": "2021-07-18T11:50:26.713098Z",
          "iopub.status.idle": "2021-07-18T11:50:27.092064Z",
          "shell.execute_reply": "2021-07-18T11:50:27.091341Z",
          "shell.execute_reply.started": "2021-07-18T11:50:26.713304Z"
        },
        "id": "GKdplY9_dl1z"
      },
      "outputs": [],
      "source": [
        "image_path = \"/profile-pics/Floyd.jpeg\"\n",
        "earnings_plot(df1,'Floyd Mayweather')"
      ]
    },
    {
      "cell_type": "markdown",
      "metadata": {
        "id": "LICcKIlbdl10"
      },
      "source": [
        "### Analysing LeBron James earnings over the years"
      ]
    },
    {
      "cell_type": "code",
      "execution_count": null,
      "metadata": {
        "execution": {
          "iopub.execute_input": "2021-07-18T11:50:27.093502Z",
          "iopub.status.busy": "2021-07-18T11:50:27.093133Z",
          "iopub.status.idle": "2021-07-18T11:50:27.642684Z",
          "shell.execute_reply": "2021-07-18T11:50:27.641697Z",
          "shell.execute_reply.started": "2021-07-18T11:50:27.093463Z"
        },
        "id": "TTTvGs8Jdl10"
      },
      "outputs": [],
      "source": [
        "image_path = \"/kaggle/input/profile-pics/LeBron.jpeg\"\n",
        "earnings_plot(df1,'LeBron James',image_path,opacity=0.2)"
      ]
    },
    {
      "cell_type": "markdown",
      "metadata": {
        "id": "Nj9OiTZTdl10"
      },
      "source": [
        "\n",
        "# 7. Racing Bar chart\n",
        "---\n",
        "\n",
        "\n",
        "Credit for the code : @pratapvardhan; credit @jburnmurdoch. Also refer to this article [Bar Chart Race in Python with Matplotlib](https://towardsdatascience.com/bar-chart-race-in-python-with-matplotlib-8e687a5c8a41) by **Pratap Vardhan**\n",
        " for a step by step process to recreate it."
      ]
    },
    {
      "cell_type": "code",
      "execution_count": null,
      "metadata": {
        "_kg_hide-input": true,
        "_kg_hide-output": true,
        "execution": {
          "iopub.execute_input": "2021-07-18T11:50:27.644206Z",
          "iopub.status.busy": "2021-07-18T11:50:27.643905Z",
          "iopub.status.idle": "2021-07-18T11:50:28.232053Z",
          "shell.execute_reply": "2021-07-18T11:50:28.231409Z",
          "shell.execute_reply.started": "2021-07-18T11:50:27.644159Z"
        },
        "id": "-iJimFgVdl10"
      },
      "outputs": [],
      "source": [
        "\n",
        "import matplotlib.ticker as ticker\n",
        "import matplotlib.animation as animation\n",
        "from IPython.display import HTML\n",
        "\n",
        "data = df[['Name','Nationality','Year','earnings ($ million)']]\n",
        "data.rename(columns={'earnings ($ million)':'value'},inplace=True)\n",
        "\n",
        "group_lk = df.set_index('Name')['Nationality'].to_dict()\n",
        "\n",
        "colors = [\"#adb0ff\", \"#ffb3ff\", \"#90d595\", \"#e48381\", \"#aafbff\", \"#f7bb5f\", \"#eafb50\"]\n",
        "\n",
        "\n",
        "\n",
        "fig, ax = plt.subplots(figsize=(15, 8))\n",
        "\n",
        "def draw_barchart(current_year):\n",
        "    dff = data[data['Year'].eq(current_year)].sort_values(by='value', ascending=True).tail(10)\n",
        "    ax.clear()\n",
        "    ax.barh(dff['Name'], dff['value'],color=colors)\n",
        "    dx = dff['value'].max() / 200\n",
        "    for i, (value, name) in enumerate(zip(dff['value'], dff['Name'])):\n",
        "        ax.text(value-dx, i,     name,           size=14, weight=600, ha='right', va='bottom')\n",
        "        ax.text(value-dx, i-.25, group_lk[name], size=10, color='#444444', ha='right', va='baseline')\n",
        "        ax.text(value+dx, i,     f'{value:,.0f}',  size=14, ha='left',  va='center')\n",
        "    ax.text(1, 0.4, current_year, transform=ax.transAxes, color='#777777', size=46, ha='right', weight=800)\n",
        "    ax.text(0, 1.06, 'Earnings (Million $)', transform=ax.transAxes, size=12, color='#777777')\n",
        "    ax.xaxis.set_major_formatter(ticker.StrMethodFormatter('{x:,.0f}'))\n",
        "    ax.xaxis.set_ticks_position('top')\n",
        "    ax.tick_params(axis='x', colors='#777777', labelsize=12)\n",
        "    ax.set_yticks([])\n",
        "    ax.margins(0, 0.01)\n",
        "    ax.grid(which='major', axis='x', linestyle='-')\n",
        "    ax.set_axisbelow(True)\n",
        "    ax.text(0, 1.15, \"The World's Highest-Paid Athletes from 1990 to 2020\",\n",
        "            transform=ax.transAxes, size=24, weight=600, ha='left', va='top')\n",
        "    \n",
        "    bbox=dict(facecolor='white', alpha=0.8, edgecolor='white')\n",
        "    plt.box(False)\n",
        "    \n",
        "draw_barchart(2020)\n",
        "\n"
      ]
    },
    {
      "cell_type": "code",
      "execution_count": null,
      "metadata": {
        "execution": {
          "iopub.execute_input": "2021-07-18T11:50:28.233362Z",
          "iopub.status.busy": "2021-07-18T11:50:28.233021Z",
          "iopub.status.idle": "2021-07-18T11:50:35.666128Z",
          "shell.execute_reply": "2021-07-18T11:50:35.665489Z",
          "shell.execute_reply.started": "2021-07-18T11:50:28.233328Z"
        },
        "id": "uhVFMMX1dl10"
      },
      "outputs": [],
      "source": [
        "fig, ax = plt.subplots(figsize=(15, 8))\n",
        "animator = animation.FuncAnimation(fig, draw_barchart, frames=range(1990, 2020))\n",
        "HTML(animator.to_jshtml())\n"
      ]
    },
    {
      "cell_type": "markdown",
      "source": [
        "Deportistas cuyo ranking ha subido al menos dos lugares entre 2010 y 2020."
      ],
      "metadata": {
        "id": "9ctftaeE_ZLb"
      }
    },
    {
      "cell_type": "markdown",
      "source": [
        "No se llegó a un resultado"
      ],
      "metadata": {
        "id": "5NSrvgqRNb_-"
      }
    },
    {
      "cell_type": "markdown",
      "source": [
        "\n",
        "\n",
        "---\n",
        "\n"
      ],
      "metadata": {
        "id": "putMmR46Wqp9"
      }
    },
    {
      "cell_type": "markdown",
      "source": [
        "Atleta con el menor número de apariciones y mayores ganancias."
      ],
      "metadata": {
        "id": "9UH8g_xj_eC4"
      }
    },
    {
      "cell_type": "code",
      "source": [
        "min = df['Name'].value_counts().to_frame()\n",
        "min.rename(columns={'Name':'Rank_counts'}, inplace=True) \n",
        "min = min.sort_values(by='Rank_counts',ascending=True)[:38] \n",
        "min.reset_index()\n",
        "max = pd.pivot_table(df, index='Name',values=\"earnings ($ million)\", aggfunc='sum')\n",
        "atleta_menos_apariciones = pd.merge(min,max, left_index=True, right_index=True)\n",
        "atleta_menos_apariciones.head()\n",
        "\n",
        "table1 = atleta_menos_apariciones.sort_values(by=\"earnings ($ million)\",ascending=False)[:1]\n",
        "\n",
        "table1.style.background_gradient(cmap='Reds')  "
      ],
      "metadata": {
        "colab": {
          "base_uri": "https://localhost:8080/",
          "height": 81
        },
        "id": "rB1dhN1sL89F",
        "outputId": "8a734ade-e28d-4d18-987a-d904fc2b6b0b"
      },
      "execution_count": null,
      "outputs": [
        {
          "output_type": "execute_result",
          "data": {
            "text/plain": [
              "<pandas.io.formats.style.Styler at 0x7fb8ac4673d0>"
            ],
            "text/html": [
              "<style type=\"text/css\">\n",
              "#T_d8bde_row0_col0, #T_d8bde_row0_col1 {\n",
              "  background-color: #fff5f0;\n",
              "  color: #000000;\n",
              "}\n",
              "</style>\n",
              "<table id=\"T_d8bde_\" class=\"dataframe\">\n",
              "  <thead>\n",
              "    <tr>\n",
              "      <th class=\"blank level0\" >&nbsp;</th>\n",
              "      <th class=\"col_heading level0 col0\" >Rank_counts</th>\n",
              "      <th class=\"col_heading level0 col1\" >earnings ($ million)</th>\n",
              "    </tr>\n",
              "  </thead>\n",
              "  <tbody>\n",
              "    <tr>\n",
              "      <th id=\"T_d8bde_level0_row0\" class=\"row_heading level0 row0\" >Conor McGregor</th>\n",
              "      <td id=\"T_d8bde_row0_col0\" class=\"data row0 col0\" >1</td>\n",
              "      <td id=\"T_d8bde_row0_col1\" class=\"data row0 col1\" >99.000000</td>\n",
              "    </tr>\n",
              "  </tbody>\n",
              "</table>\n"
            ]
          },
          "metadata": {},
          "execution_count": 57
        }
      ]
    },
    {
      "cell_type": "markdown",
      "source": [
        "Deporte y país con mayor número de atletas no rankeados que entraron en la lista de atletas mejor pagados."
      ],
      "metadata": {
        "id": "M3MPvni6_gte"
      }
    },
    {
      "cell_type": "code",
      "source": [
        "sport = df1['Sport'].value_counts().to_frame()[:1]\n",
        "sport.style.background_gradient(cmap='Reds')  "
      ],
      "metadata": {
        "colab": {
          "base_uri": "https://localhost:8080/",
          "height": 81
        },
        "id": "lbQvdfJt_l9m",
        "outputId": "07b4f673-c9fa-43fe-e484-57144aef32bd"
      },
      "execution_count": null,
      "outputs": [
        {
          "output_type": "execute_result",
          "data": {
            "text/plain": [
              "<pandas.io.formats.style.Styler at 0x7fb8ac41cf10>"
            ],
            "text/html": [
              "<style type=\"text/css\">\n",
              "#T_ec3c0_row0_col0 {\n",
              "  background-color: #fff5f0;\n",
              "  color: #000000;\n",
              "}\n",
              "</style>\n",
              "<table id=\"T_ec3c0_\" class=\"dataframe\">\n",
              "  <thead>\n",
              "    <tr>\n",
              "      <th class=\"blank level0\" >&nbsp;</th>\n",
              "      <th class=\"col_heading level0 col0\" >Sport</th>\n",
              "    </tr>\n",
              "  </thead>\n",
              "  <tbody>\n",
              "    <tr>\n",
              "      <th id=\"T_ec3c0_level0_row0\" class=\"row_heading level0 row0\" >BASKETBALL</th>\n",
              "      <td id=\"T_ec3c0_row0_col0\" class=\"data row0 col0\" >81</td>\n",
              "    </tr>\n",
              "  </tbody>\n",
              "</table>\n"
            ]
          },
          "metadata": {},
          "execution_count": 55
        }
      ]
    },
    {
      "cell_type": "code",
      "source": [
        "pais1 = df1['Nationality'].value_counts().to_frame()[:1]\n",
        "pais1.style.background_gradient(cmap='Reds')  "
      ],
      "metadata": {
        "colab": {
          "base_uri": "https://localhost:8080/",
          "height": 81
        },
        "id": "fN39fKywHMIg",
        "outputId": "9429a01c-e19b-44dc-ff47-f7a4b49bdad9"
      },
      "execution_count": null,
      "outputs": [
        {
          "output_type": "execute_result",
          "data": {
            "text/plain": [
              "<pandas.io.formats.style.Styler at 0x7fb8ac42fbd0>"
            ],
            "text/html": [
              "<style type=\"text/css\">\n",
              "#T_d5aa9_row0_col0 {\n",
              "  background-color: #fff5f0;\n",
              "  color: #000000;\n",
              "}\n",
              "</style>\n",
              "<table id=\"T_d5aa9_\" class=\"dataframe\">\n",
              "  <thead>\n",
              "    <tr>\n",
              "      <th class=\"blank level0\" >&nbsp;</th>\n",
              "      <th class=\"col_heading level0 col0\" >Nationality</th>\n",
              "    </tr>\n",
              "  </thead>\n",
              "  <tbody>\n",
              "    <tr>\n",
              "      <th id=\"T_d5aa9_level0_row0\" class=\"row_heading level0 row0\" >USA</th>\n",
              "      <td id=\"T_d5aa9_row0_col0\" class=\"data row0 col0\" >206</td>\n",
              "    </tr>\n",
              "  </tbody>\n",
              "</table>\n"
            ]
          },
          "metadata": {},
          "execution_count": 56
        }
      ]
    },
    {
      "cell_type": "markdown",
      "source": [
        "País con mayor número de deportes con atletas en el dataset."
      ],
      "metadata": {
        "id": "CcO7ow18_ibd"
      }
    },
    {
      "cell_type": "code",
      "source": [
        "pais = df1[['Sport','Nationality']]\n",
        "pais = pais.groupby('Nationality').nunique('Sport')\n",
        "pais = pais.sort_values(by='Sport',ascending=False)\n",
        "pais.style.background_gradient(cmap='Reds')"
      ],
      "metadata": {
        "colab": {
          "base_uri": "https://localhost:8080/",
          "height": 770
        },
        "id": "N141p_gA8J05",
        "outputId": "1e9d63e7-188e-40b3-de23-95ae2ca15b86"
      },
      "execution_count": null,
      "outputs": [
        {
          "output_type": "execute_result",
          "data": {
            "text/plain": [
              "<pandas.io.formats.style.Styler at 0x7fb8b2199d10>"
            ],
            "text/html": [
              "<style type=\"text/css\">\n",
              "#T_cedf4_row0_col0 {\n",
              "  background-color: #67000d;\n",
              "  color: #f1f1f1;\n",
              "}\n",
              "#T_cedf4_row1_col0 {\n",
              "  background-color: #fcbba1;\n",
              "  color: #000000;\n",
              "}\n",
              "#T_cedf4_row2_col0 {\n",
              "  background-color: #fdd4c2;\n",
              "  color: #000000;\n",
              "}\n",
              "#T_cedf4_row3_col0, #T_cedf4_row4_col0 {\n",
              "  background-color: #fee7dc;\n",
              "  color: #000000;\n",
              "}\n",
              "#T_cedf4_row5_col0, #T_cedf4_row6_col0, #T_cedf4_row7_col0, #T_cedf4_row8_col0, #T_cedf4_row9_col0, #T_cedf4_row10_col0, #T_cedf4_row11_col0, #T_cedf4_row12_col0, #T_cedf4_row13_col0, #T_cedf4_row14_col0, #T_cedf4_row15_col0, #T_cedf4_row16_col0, #T_cedf4_row17_col0, #T_cedf4_row18_col0, #T_cedf4_row19_col0, #T_cedf4_row20_col0, #T_cedf4_row21_col0 {\n",
              "  background-color: #fff5f0;\n",
              "  color: #000000;\n",
              "}\n",
              "</style>\n",
              "<table id=\"T_cedf4_\" class=\"dataframe\">\n",
              "  <thead>\n",
              "    <tr>\n",
              "      <th class=\"blank level0\" >&nbsp;</th>\n",
              "      <th class=\"col_heading level0 col0\" >Sport</th>\n",
              "    </tr>\n",
              "    <tr>\n",
              "      <th class=\"index_name level0\" >Nationality</th>\n",
              "      <th class=\"blank col0\" >&nbsp;</th>\n",
              "    </tr>\n",
              "  </thead>\n",
              "  <tbody>\n",
              "    <tr>\n",
              "      <th id=\"T_cedf4_level0_row0\" class=\"row_heading level0 row0\" >USA</th>\n",
              "      <td id=\"T_cedf4_row0_col0\" class=\"data row0 col0\" >13</td>\n",
              "    </tr>\n",
              "    <tr>\n",
              "      <th id=\"T_cedf4_level0_row1\" class=\"row_heading level0 row1\" >Canada</th>\n",
              "      <td id=\"T_cedf4_row1_col0\" class=\"data row1 col0\" >4</td>\n",
              "    </tr>\n",
              "    <tr>\n",
              "      <th id=\"T_cedf4_level0_row2\" class=\"row_heading level0 row2\" >Germany</th>\n",
              "      <td id=\"T_cedf4_row2_col0\" class=\"data row2 col0\" >3</td>\n",
              "    </tr>\n",
              "    <tr>\n",
              "      <th id=\"T_cedf4_level0_row3\" class=\"row_heading level0 row3\" >UK</th>\n",
              "      <td id=\"T_cedf4_row3_col0\" class=\"data row3 col0\" >2</td>\n",
              "    </tr>\n",
              "    <tr>\n",
              "      <th id=\"T_cedf4_level0_row4\" class=\"row_heading level0 row4\" >Brazil</th>\n",
              "      <td id=\"T_cedf4_row4_col0\" class=\"data row4 col0\" >2</td>\n",
              "    </tr>\n",
              "    <tr>\n",
              "      <th id=\"T_cedf4_level0_row5\" class=\"row_heading level0 row5\" >Northern Ireland</th>\n",
              "      <td id=\"T_cedf4_row5_col0\" class=\"data row5 col0\" >1</td>\n",
              "    </tr>\n",
              "    <tr>\n",
              "      <th id=\"T_cedf4_level0_row6\" class=\"row_heading level0 row6\" >Switzerland</th>\n",
              "      <td id=\"T_cedf4_row6_col0\" class=\"data row6 col0\" >1</td>\n",
              "    </tr>\n",
              "    <tr>\n",
              "      <th id=\"T_cedf4_level0_row7\" class=\"row_heading level0 row7\" >Spain</th>\n",
              "      <td id=\"T_cedf4_row7_col0\" class=\"data row7 col0\" >1</td>\n",
              "    </tr>\n",
              "    <tr>\n",
              "      <th id=\"T_cedf4_level0_row8\" class=\"row_heading level0 row8\" >Serbia</th>\n",
              "      <td id=\"T_cedf4_row8_col0\" class=\"data row8 col0\" >1</td>\n",
              "    </tr>\n",
              "    <tr>\n",
              "      <th id=\"T_cedf4_level0_row9\" class=\"row_heading level0 row9\" >Russia</th>\n",
              "      <td id=\"T_cedf4_row9_col0\" class=\"data row9 col0\" >1</td>\n",
              "    </tr>\n",
              "    <tr>\n",
              "      <th id=\"T_cedf4_level0_row10\" class=\"row_heading level0 row10\" >Portugal</th>\n",
              "      <td id=\"T_cedf4_row10_col0\" class=\"data row10 col0\" >1</td>\n",
              "    </tr>\n",
              "    <tr>\n",
              "      <th id=\"T_cedf4_level0_row11\" class=\"row_heading level0 row11\" >Philippines</th>\n",
              "      <td id=\"T_cedf4_row11_col0\" class=\"data row11 col0\" >1</td>\n",
              "    </tr>\n",
              "    <tr>\n",
              "      <th id=\"T_cedf4_level0_row12\" class=\"row_heading level0 row12\" >Argentina</th>\n",
              "      <td id=\"T_cedf4_row12_col0\" class=\"data row12 col0\" >1</td>\n",
              "    </tr>\n",
              "    <tr>\n",
              "      <th id=\"T_cedf4_level0_row13\" class=\"row_heading level0 row13\" >Mexico</th>\n",
              "      <td id=\"T_cedf4_row13_col0\" class=\"data row13 col0\" >1</td>\n",
              "    </tr>\n",
              "    <tr>\n",
              "      <th id=\"T_cedf4_level0_row14\" class=\"row_heading level0 row14\" >Australia</th>\n",
              "      <td id=\"T_cedf4_row14_col0\" class=\"data row14 col0\" >1</td>\n",
              "    </tr>\n",
              "    <tr>\n",
              "      <th id=\"T_cedf4_level0_row15\" class=\"row_heading level0 row15\" >Ireland</th>\n",
              "      <td id=\"T_cedf4_row15_col0\" class=\"data row15 col0\" >1</td>\n",
              "    </tr>\n",
              "    <tr>\n",
              "      <th id=\"T_cedf4_level0_row16\" class=\"row_heading level0 row16\" >France</th>\n",
              "      <td id=\"T_cedf4_row16_col0\" class=\"data row16 col0\" >1</td>\n",
              "    </tr>\n",
              "    <tr>\n",
              "      <th id=\"T_cedf4_level0_row17\" class=\"row_heading level0 row17\" >Finland</th>\n",
              "      <td id=\"T_cedf4_row17_col0\" class=\"data row17 col0\" >1</td>\n",
              "    </tr>\n",
              "    <tr>\n",
              "      <th id=\"T_cedf4_level0_row18\" class=\"row_heading level0 row18\" >Filipino</th>\n",
              "      <td id=\"T_cedf4_row18_col0\" class=\"data row18 col0\" >1</td>\n",
              "    </tr>\n",
              "    <tr>\n",
              "      <th id=\"T_cedf4_level0_row19\" class=\"row_heading level0 row19\" >Dominican</th>\n",
              "      <td id=\"T_cedf4_row19_col0\" class=\"data row19 col0\" >1</td>\n",
              "    </tr>\n",
              "    <tr>\n",
              "      <th id=\"T_cedf4_level0_row20\" class=\"row_heading level0 row20\" >Austria</th>\n",
              "      <td id=\"T_cedf4_row20_col0\" class=\"data row20 col0\" >1</td>\n",
              "    </tr>\n",
              "    <tr>\n",
              "      <th id=\"T_cedf4_level0_row21\" class=\"row_heading level0 row21\" >Italy</th>\n",
              "      <td id=\"T_cedf4_row21_col0\" class=\"data row21 col0\" >1</td>\n",
              "    </tr>\n",
              "  </tbody>\n",
              "</table>\n"
            ]
          },
          "metadata": {},
          "execution_count": 58
        }
      ]
    }
  ],
  "metadata": {
    "kernelspec": {
      "display_name": "Python 3",
      "language": "python",
      "name": "python3"
    },
    "language_info": {
      "codemirror_mode": {
        "name": "ipython",
        "version": 3
      },
      "file_extension": ".py",
      "mimetype": "text/x-python",
      "name": "python",
      "nbconvert_exporter": "python",
      "pygments_lexer": "ipython3",
      "version": "3.6.6"
    },
    "colab": {
      "name": "El_deportista_mejor_pagado_en_2020.ipynb",
      "provenance": [],
      "collapsed_sections": []
    }
  },
  "nbformat": 4,
  "nbformat_minor": 0
}